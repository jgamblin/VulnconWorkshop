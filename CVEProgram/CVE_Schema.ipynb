{
 "cells": [
  {
   "cell_type": "code",
   "execution_count": null,
   "metadata": {},
   "outputs": [],
   "source": [
    "import json\n",
    "import numpy as np\n",
    "import pandas as pd\n",
    "import os\n",
    "from json_schema_for_humans.generate import generate_from_filename\n",
    "from json_schema_for_humans.generation_configuration import GenerationConfiguration"
   ]
  },
  {
   "cell_type": "code",
   "execution_count": null,
   "metadata": {},
   "outputs": [],
   "source": [
    "def extract_keys(schema, parent_key=''):\n",
    "    keys = []\n",
    "    for key, value in schema.items():\n",
    "        full_key = f'{parent_key}.{key}' if parent_key else key\n",
    "        if isinstance(value, dict):\n",
    "            description = value.get('description', '')\n",
    "            type_ = value.get('type', '')\n",
    "            format_ = value.get('format', '')\n",
    "            pattern = value.get('pattern', '')\n",
    "            keys.append((full_key, description, type_, format_, pattern))\n",
    "            # Only extend keys if the value is a dictionary and has properties\n",
    "            if 'properties' in value:\n",
    "                keys.extend(extract_keys(value['properties'], full_key))\n",
    "        else:\n",
    "            keys.append((full_key, '', '', '', ''))\n",
    "    return keys\n",
    "\n",
    "# Load the schema from the JSON file\n",
    "with open('../Data/Schemas/CVE_Record_Format.json') as f:\n",
    "    schema = json.load(f)\n",
    "\n",
    "# Extract keys from the definitions section of the schema\n",
    "definitions = schema.get('definitions', {})\n",
    "keys = extract_keys(definitions)\n",
    "df_keys = pd.DataFrame(keys, columns=['Key', 'Description', 'Type', 'Format', 'Pattern'])\n",
    "\n",
    "# Sort the DataFrame by the 'Key' column\n",
    "df_keys_sorted = df_keys.sort_values(by='Key')\n",
    "\n",
    "# Create the output directory if it doesn't exist\n",
    "output_dir = '../CVEProgram/Files'\n",
    "os.makedirs(output_dir, exist_ok=True)\n",
    "\n",
    "# Export the sorted DataFrame to a CSV file\n",
    "output_file = os.path.join(output_dir, 'CVE_Schema.csv')\n",
    "df_keys_sorted.to_csv(output_file, index=False)\n",
    "\n",
    "df_keys_sorted"
   ]
  },
  {
   "cell_type": "code",
   "execution_count": null,
   "metadata": {},
   "outputs": [],
   "source": [
    "# Replace empty strings with NaN\n",
    "df_keys.replace('', np.nan, inplace=True)\n",
    "\n",
    "# Calculate the percentage of each column that has a value\n",
    "percentages = df_keys.notnull().mean() * 100\n",
    "percentages_df = percentages.reset_index()\n",
    "percentages_df.columns = ['Column', 'Percentage']\n",
    "percentages_df"
   ]
  },
  {
   "cell_type": "code",
   "execution_count": null,
   "metadata": {},
   "outputs": [],
   "source": [
    "config = GenerationConfiguration(\n",
    "            template_name=\"md_nested\",\n",
    "            deprecated_from_description=True,\n",
    "            footer_show_time=False\n",
    "        )\n",
    "\n",
    "generate_from_filename(\"../Data/Schemas/CVE_Record_Format.json\", \"Files/cve_schema.md\", config=config)"
   ]
  }
 ],
 "metadata": {
  "kernelspec": {
   "display_name": "Python 3",
   "language": "python",
   "name": "python3"
  },
  "language_info": {
   "codemirror_mode": {
    "name": "ipython",
    "version": 3
   },
   "file_extension": ".py",
   "mimetype": "text/x-python",
   "name": "python",
   "nbconvert_exporter": "python",
   "pygments_lexer": "ipython3",
   "version": "3.13.2"
  }
 },
 "nbformat": 4,
 "nbformat_minor": 2
}
