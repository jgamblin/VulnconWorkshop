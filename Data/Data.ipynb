{
 "cells": [
  {
   "cell_type": "markdown",
   "metadata": {},
   "source": [
    "# Import Libraries"
   ]
  },
  {
   "cell_type": "code",
   "execution_count": null,
   "id": "import-statements",
   "metadata": {},
   "outputs": [],
   "source": [
    "import os\n",
    "import subprocess\n",
    "from datetime import datetime, timedelta\n",
    "\n",
    "import requests\n",
    "from tqdm import tqdm"
   ]
  },
  {
   "cell_type": "markdown",
   "metadata": {},
   "source": [
    "# Download NVD JSONL File"
   ]
  },
  {
   "cell_type": "code",
   "execution_count": 2,
   "id": "download-nvd-jsonl",
   "metadata": {},
   "outputs": [
    {
     "name": "stderr",
     "output_type": "stream",
     "text": [
      "100%|██████████| 1.28G/1.28G [00:38<00:00, 33.6MiB/s]"
     ]
    },
    {
     "name": "stdout",
     "output_type": "stream",
     "text": [
      "Downloaded ./NVD/nvd.jsonl\n"
     ]
    },
    {
     "name": "stderr",
     "output_type": "stream",
     "text": [
      "\n"
     ]
    }
   ],
   "source": [
    "url = 'https://nvd.handsonhacking.org/nvd.jsonl'\n",
    "nvd_folder = './NVD'\n",
    "nvd_file_path = os.path.join(nvd_folder, 'nvd.jsonl')\n",
    "\n",
    "# Create the NVD folder if it doesn't exist\n",
    "os.makedirs(nvd_folder, exist_ok=True)\n",
    "\n",
    "# Delete the old file if it exists and is older than 24 hours\n",
    "if os.path.exists(nvd_file_path):\n",
    "    file_mod_time = datetime.fromtimestamp(os.path.getmtime(nvd_file_path))\n",
    "    if datetime.now() - file_mod_time > timedelta(hours=24):\n",
    "        os.remove(nvd_file_path)\n",
    "\n",
    "# Download the new file with a progress bar\n",
    "response = requests.get(url, stream=True)\n",
    "total_size = int(response.headers.get('content-length', 0))\n",
    "block_size = 1024\n",
    "tqdm_bar = tqdm(total=total_size, unit='iB', unit_scale=True)\n",
    "with open(nvd_file_path, 'wb') as file:\n",
    "    for data in response.iter_content(block_size):\n",
    "        tqdm_bar.update(len(data))\n",
    "        file.write(data)\n",
    "tqdm_bar.close()\n",
    "if total_size != 0 and tqdm_bar.n != total_size:\n",
    "    print('ERROR: Something went wrong')\n",
    "else:\n",
    "    print(f'Downloaded {nvd_file_path}')"
   ]
  },
  {
   "cell_type": "markdown",
   "metadata": {},
   "source": [
    "# Download CVE Files from GitHub Repository"
   ]
  },
  {
   "cell_type": "code",
   "execution_count": 3,
   "id": "download-cve-files",
   "metadata": {},
   "outputs": [
    {
     "name": "stdout",
     "output_type": "stream",
     "text": [
      "Repository is up to date\n"
     ]
    }
   ],
   "source": [
    "repo_url = 'https://github.com/CVEProject/cvelistV5.git'\n",
    "cve_folder = './CVE'\n",
    "\n",
    "# Clone the repository if the folder doesn't exist, otherwise pull the latest changes\n",
    "try:\n",
    "    if not os.path.exists(cve_folder) or not os.listdir(cve_folder):\n",
    "        if os.path.exists(cve_folder):\n",
    "            subprocess.run(['rm', '-rf', cve_folder])\n",
    "        subprocess.run(['git', 'clone', '-q', repo_url, cve_folder], check=True)\n",
    "    else:\n",
    "        subprocess.run(['git', '-C', cve_folder, 'pull', '-q'], check=True)\n",
    "    print('Repository is up to date')\n",
    "except subprocess.CalledProcessError:\n",
    "    print('Error occurred, removing .git folder and re-cloning the repository')\n",
    "    git_folder = os.path.join(cve_folder, '.git')\n",
    "    if os.path.exists(git_folder):\n",
    "        subprocess.run(['rm', '-rf', git_folder])\n",
    "    subprocess.run(['git', 'clone', '-q', repo_url, cve_folder], check=True)\n",
    "    print('Repository re-cloned successfully')"
   ]
  },
  {
   "cell_type": "markdown",
   "metadata": {},
   "source": [
    "# Download Schema Files"
   ]
  },
  {
   "cell_type": "code",
   "execution_count": 4,
   "id": "download-schema-files",
   "metadata": {},
   "outputs": [
    {
     "name": "stdout",
     "output_type": "stream",
     "text": [
      "Downloaded ./schemas/CVE_Record_Format.json\n",
      "Downloaded ./schemas/cve_api_json_2.0.schema\n"
     ]
    }
   ],
   "source": [
    "schema_folder = './schemas'\n",
    "os.makedirs(schema_folder, exist_ok=True)\n",
    "\n",
    "schema_urls = [\n",
    "    'https://raw.githubusercontent.com/CVEProject/cve-schema/main/schema/CVE_Record_Format.json',\n",
    "    'https://csrc.nist.gov/schema/nvd/api/2.0/cve_api_json_2.0.schema'\n",
    "]\n",
    "\n",
    "for url in schema_urls:\n",
    "    file_name = url.split('/')[-1]\n",
    "    file_path = os.path.join(schema_folder, file_name)\n",
    "    response = requests.get(url)\n",
    "    with open(file_path, 'wb') as file:\n",
    "        file.write(response.content)\n",
    "    print(f'Downloaded {file_path}')\n"
   ]
  }
 ],
 "metadata": {
  "kernelspec": {
   "display_name": "Python 3",
   "language": "python",
   "name": "python3"
  },
  "language_info": {
   "codemirror_mode": {
    "name": "ipython",
    "version": 3
   },
   "file_extension": ".py",
   "mimetype": "text/x-python",
   "name": "python",
   "nbconvert_exporter": "python",
   "pygments_lexer": "ipython3",
   "version": "3.13.2"
  }
 },
 "nbformat": 4,
 "nbformat_minor": 2
}
