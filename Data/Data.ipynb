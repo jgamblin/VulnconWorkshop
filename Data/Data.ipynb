{
 "cells": [
  {
   "cell_type": "markdown",
   "metadata": {},
   "source": [
    "# Import Libraries"
   ]
  },
  {
   "cell_type": "code",
   "execution_count": 1,
   "id": "import-statements",
   "metadata": {},
   "outputs": [],
   "source": [
    "import os\n",
    "import subprocess\n",
    "from datetime import datetime, timedelta\n",
    "import requests\n",
    "from tqdm import tqdm"
   ]
  },
  {
   "cell_type": "markdown",
   "metadata": {},
   "source": [
    "# Download NVD JSONL File"
   ]
  },
  {
   "cell_type": "code",
   "execution_count": 3,
   "id": "download-nvd-jsonl",
   "metadata": {},
   "outputs": [
    {
     "name": "stderr",
     "output_type": "stream",
     "text": [
      "100%|██████████| 1.28G/1.28G [00:41<00:00, 31.1MiB/s]"
     ]
    },
    {
     "name": "stdout",
     "output_type": "stream",
     "text": [
      "Downloaded ./NVD/nvd.jsonl\n"
     ]
    },
    {
     "name": "stderr",
     "output_type": "stream",
     "text": [
      "\n"
     ]
    }
   ],
   "source": [
    "url = 'https://nvd.handsonhacking.org/nvd.jsonl'\n",
    "nvd_folder = './NVD'\n",
    "nvd_file_path = os.path.join(nvd_folder, 'nvd.jsonl')\n",
    "\n",
    "# Create the NVD folder if it doesn't exist\n",
    "os.makedirs(nvd_folder, exist_ok=True)\n",
    "\n",
    "# Delete the old file if it exists and is older than 24 hours\n",
    "if os.path.exists(nvd_file_path):\n",
    "    file_mod_time = datetime.fromtimestamp(os.path.getmtime(nvd_file_path))\n",
    "    if datetime.now() - file_mod_time > timedelta(hours=24):\n",
    "        os.remove(nvd_file_path)\n",
    "\n",
    "# Download the new file with a progress bar\n",
    "response = requests.get(url, stream=True)\n",
    "total_size = int(response.headers.get('content-length', 0))\n",
    "block_size = 1024\n",
    "tqdm_bar = tqdm(total=total_size, unit='iB', unit_scale=True)\n",
    "with open(nvd_file_path, 'wb') as file:\n",
    "    for data in response.iter_content(block_size):\n",
    "        tqdm_bar.update(len(data))\n",
    "        file.write(data)\n",
    "tqdm_bar.close()\n",
    "if total_size != 0 and tqdm_bar.n != total_size:\n",
    "    print('ERROR: Something went wrong')\n",
    "else:\n",
    "    print(f'Downloaded {nvd_file_path}')"
   ]
  },
  {
   "cell_type": "markdown",
   "metadata": {},
   "source": [
    "# Download CVE Files from GitHub Repository"
   ]
  },
  {
   "cell_type": "code",
   "execution_count": 6,
   "id": "download-cve-files",
   "metadata": {},
   "outputs": [
    {
     "name": "stderr",
     "output_type": "stream",
     "text": [
      "Cloning repository:   0%|          | 0/3 [00:00<?, ?it/s]Cloning into './CVE'...\n",
      "Updating files: 100% (3/3), done.\n",
      "Cloning repository: 100%|██████████| 3/3 [00:23<00:00,  7.86s/it]\n"
     ]
    },
    {
     "name": "stdout",
     "output_type": "stream",
     "text": [
      "Repository is up to date\n"
     ]
    },
    {
     "name": "stderr",
     "output_type": "stream",
     "text": [
      "Processing files: 100%|██████████| 11/11 [00:00<00:00, 344308.54it/s]\n"
     ]
    }
   ],
   "source": [
    "repo_url = 'https://github.com/CVEProject/cvelistV5.git'\n",
    "cve_folder = './CVE'\n",
    "sparse_folder = 'cves/2025'\n",
    "\n",
    "# Clone the repository if the folder doesn't exist, otherwise pull the latest changes\n",
    "try:\n",
    "    if not os.path.exists(cve_folder) or not os.listdir(cve_folder):\n",
    "        if os.path.exists(cve_folder):\n",
    "            subprocess.run(['rm', '-rf', cve_folder])\n",
    "        os.makedirs(cve_folder, exist_ok=True)\n",
    "        with tqdm(total=3, desc=\"Cloning repository\") as pbar:\n",
    "            subprocess.run(['git', 'clone', '--filter=blob:none', '--sparse', repo_url, cve_folder], check=True)\n",
    "            pbar.update(1)\n",
    "            subprocess.run(['git', '-C', cve_folder, 'sparse-checkout', 'set', sparse_folder], check=True)\n",
    "            pbar.update(1)\n",
    "            pbar.update(1)\n",
    "    else:\n",
    "        with tqdm(total=1, desc=\"Pulling latest changes\") as pbar:\n",
    "            subprocess.run(['git', '-C', cve_folder, 'pull', '-q'], check=True)\n",
    "            pbar.update(1)\n",
    "    print('Repository is up to date')\n",
    "except subprocess.CalledProcessError:\n",
    "    print('Error occurred, removing .git folder and re-cloning the repository')\n",
    "    git_folder = os.path.join(cve_folder, '.git')\n",
    "    if os.path.exists(git_folder):\n",
    "        subprocess.run(['rm', '-rf', git_folder])\n",
    "    os.makedirs(cve_folder, exist_ok=True)\n",
    "    with tqdm(total=3, desc=\"Re-cloning repository\") as pbar:\n",
    "        subprocess.run(['git', 'clone', '--filter=blob:none', '--sparse', repo_url, cve_folder], check=True)\n",
    "        pbar.update(1)\n",
    "        subprocess.run(['git', '-C', cve_folder, 'sparse-checkout', 'set', sparse_folder], check=True)\n",
    "        pbar.update(1)\n",
    "        pbar.update(1)\n",
    "    print('Repository re-cloned successfully')\n",
    "\n",
    "# Display progress bar\n",
    "files = os.listdir(os.path.join(cve_folder, sparse_folder))\n",
    "for file in tqdm(files, desc=\"Processing files\"):\n",
    "    # Process each file\n",
    "    pass"
   ]
  },
  {
   "cell_type": "markdown",
   "metadata": {},
   "source": [
    "# Download Schema Files"
   ]
  },
  {
   "cell_type": "code",
   "execution_count": null,
   "id": "download-schema-files",
   "metadata": {},
   "outputs": [
    {
     "name": "stdout",
     "output_type": "stream",
     "text": [
      "Downloaded ./schemas/CVE_Record_Format.json\n",
      "Downloaded ./schemas/cve_api_json_2.0.schema\n"
     ]
    }
   ],
   "source": [
    "schema_folder = './Schemas'\n",
    "os.makedirs(schema_folder, exist_ok=True)\n",
    "\n",
    "schema_urls = [\n",
    "    'https://raw.githubusercontent.com/CVEProject/cve-schema/main/schema/CVE_Record_Format.json',\n",
    "    'https://csrc.nist.gov/schema/nvd/api/2.0/cve_api_json_2.0.schema',\n",
    "]\n",
    "\n",
    "for url in schema_urls:\n",
    "    file_name = url.split('/')[-1]\n",
    "    file_path = os.path.join(schema_folder, file_name)\n",
    "    response = requests.get(url)\n",
    "    with open(file_path, 'wb') as file:\n",
    "        file.write(response.content)\n",
    "    print(f'Downloaded {file_path}')\n"
   ]
  },
  {
   "cell_type": "code",
   "execution_count": 2,
   "metadata": {},
   "outputs": [
    {
     "name": "stdout",
     "output_type": "stream",
     "text": [
      "Downloaded ./Schemas/tags/reference-tags.json\n",
      "Downloaded ./Schemas/tags/cna-tags.json\n",
      "Downloaded ./Schemas/tags/adp-tags.json\n"
     ]
    }
   ],
   "source": [
    "schema_folder = './Schemas/tags'\n",
    "os.makedirs(schema_folder, exist_ok=True)\n",
    "\n",
    "schema_urls = [\n",
    "    'https://raw.githubusercontent.com/CVEProject/cve-schema/refs/heads/main/schema/tags/reference-tags.json',\n",
    "    'https://raw.githubusercontent.com/CVEProject/cve-schema/refs/heads/main/schema/tags/cna-tags.json',\n",
    "    'https://raw.githubusercontent.com/CVEProject/cve-schema/refs/heads/main/schema/tags/adp-tags.json'\n",
    "\n",
    "]\n",
    "\n",
    "for url in schema_urls:\n",
    "    file_name = url.split('/')[-1]\n",
    "    file_path = os.path.join(schema_folder, file_name)\n",
    "    response = requests.get(url)\n",
    "    with open(file_path, 'wb') as file:\n",
    "        file.write(response.content)\n",
    "    print(f'Downloaded {file_path}')\n"
   ]
  },
  {
   "cell_type": "code",
   "execution_count": 4,
   "metadata": {},
   "outputs": [
    {
     "name": "stdout",
     "output_type": "stream",
     "text": [
      "Downloaded ./Schemas/imports/cvss/cvss-v2.0.json\n",
      "Downloaded ./Schemas/imports/cvss/cvss-v3.0.json\n",
      "Downloaded ./Schemas/imports/cvss/cvss-v3.1.json\n",
      "Downloaded ./Schemas/imports/cvss/cvss-v4.0.json\n"
     ]
    }
   ],
   "source": [
    "schema_folder = './Schemas/imports/cvss'\n",
    "os.makedirs(schema_folder, exist_ok=True)\n",
    "\n",
    "schema_urls = [\n",
    "    'https://raw.githubusercontent.com/CVEProject/cve-schema/refs/heads/main/schema/imports/cvss/cvss-v2.0.json',\n",
    "    'https://raw.githubusercontent.com/CVEProject/cve-schema/refs/heads/main/schema/imports/cvss/cvss-v3.0.json',\n",
    "    'https://raw.githubusercontent.com/CVEProject/cve-schema/refs/heads/main/schema/imports/cvss/cvss-v3.1.json',\n",
    "    'https://raw.githubusercontent.com/CVEProject/cve-schema/refs/heads/main/schema/imports/cvss/cvss-v4.0.json'\n",
    "]\n",
    "\n",
    "for url in schema_urls:\n",
    "    file_name = url.split('/')[-1]\n",
    "    file_path = os.path.join(schema_folder, file_name)\n",
    "    response = requests.get(url)\n",
    "    with open(file_path, 'wb') as file:\n",
    "        file.write(response.content)\n",
    "    print(f'Downloaded {file_path}')\n",
    "\n",
    "\n"
   ]
  }
 ],
 "metadata": {
  "kernelspec": {
   "display_name": "Python 3",
   "language": "python",
   "name": "python3"
  },
  "language_info": {
   "codemirror_mode": {
    "name": "ipython",
    "version": 3
   },
   "file_extension": ".py",
   "mimetype": "text/x-python",
   "name": "python",
   "nbconvert_exporter": "python",
   "pygments_lexer": "ipython3",
   "version": "3.13.2"
  }
 },
 "nbformat": 4,
 "nbformat_minor": 2
}
