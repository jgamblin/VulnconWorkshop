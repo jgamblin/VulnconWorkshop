{
 "cells": [
  {
   "cell_type": "markdown",
   "id": "serious-pressing",
   "metadata": {},
   "source": [
    "# NVD CPE Data\n",
    "---"
   ]
  },
  {
   "cell_type": "code",
   "execution_count": 1,
   "id": "91b44dc2",
   "metadata": {
    "execution": {
     "iopub.execute_input": "2025-03-31T08:17:15.411106Z",
     "iopub.status.busy": "2025-03-31T08:17:15.410733Z",
     "iopub.status.idle": "2025-03-31T08:17:16.049762Z",
     "shell.execute_reply": "2025-03-31T08:17:16.049191Z"
    },
    "tags": [
     "remove-cell"
    ]
   },
   "outputs": [],
   "source": [
    "import json\n",
    "import pandas as pd\n",
    "import glob\n",
    "import re\n",
    "import numpy as np \n",
    "import matplotlib.pyplot as plt\n",
    "from datetime import date"
   ]
  },
  {
   "cell_type": "code",
   "execution_count": 2,
   "id": "98bafc2f-2e20-4032-a091-ec2dc0ecb7a5",
   "metadata": {
    "execution": {
     "iopub.execute_input": "2025-03-31T08:17:16.051843Z",
     "iopub.status.busy": "2025-03-31T08:17:16.051432Z",
     "iopub.status.idle": "2025-03-31T08:17:40.750227Z",
     "shell.execute_reply": "2025-03-31T08:17:40.749656Z"
    },
    "tags": [
     "remove-cell"
    ]
   },
   "outputs": [],
   "source": [
    "row_accumulator = []\n",
    "\n",
    "for filename in glob.glob('../../Data/NVD/nvd.jsonl'):\n",
    "    with open(filename, 'r', encoding='utf-8') as f:\n",
    "        nvd_data = json.load(f)\n",
    "        for entry in nvd_data:\n",
    "            if 'configurations' in entry['cve']:\n",
    "                for config in entry['cve']['configurations']:\n",
    "                    for node in config['nodes']:\n",
    "                        if 'cpeMatch' in node:\n",
    "                            for cpe in node['cpeMatch']:\n",
    "                                if cpe['vulnerable']:\n",
    "                                    cve = entry['cve']['id']\n",
    "                                    published_date = entry['cve'].get('published', 'Missing_Data')\n",
    "                                    cpe_string = cpe['criteria']\n",
    "                                    end = cpe.get('versionEndExcluding', 'None')\n",
    "                                    end2 = cpe.get('versionEndIncluding', 'None')\n",
    "                                    start = cpe.get('versionStartExcluding', 'None')\n",
    "                                    start2 = cpe.get('versionStartIncluding', 'None')\n",
    "\n",
    "                                    new_row = {\n",
    "                                        'CVE': cve,\n",
    "                                        'Published': published_date,\n",
    "                                        'CPE': cpe_string,\n",
    "                                        'StartI': start,\n",
    "                                        'StartE': start2,\n",
    "                                        'EndI': end,\n",
    "                                        'EndE': end2\n",
    "                                    }\n",
    "                                    row_accumulator.append(new_row)\n",
    "\n",
    "nvd = pd.DataFrame(row_accumulator)\n",
    "nvd['Published'] = pd.to_datetime(nvd['Published'], errors='coerce')\n",
    "thisyear = (nvd['Published'] > '2000-01-01') & (nvd['Published'] < '2026-01-01')\n",
    "nvd = nvd.loc[thisyear]\n",
    "nvd = nvd.sort_values(by=['Published'])"
   ]
  },
  {
   "attachments": {},
   "cell_type": "markdown",
   "id": "f0210783",
   "metadata": {
    "tags": [
     "hide-input"
    ]
   },
   "source": [
    "## CPE Data"
   ]
  },
  {
   "cell_type": "markdown",
   "id": "0c3388d0",
   "metadata": {},
   "source": [
    "### CVEs With Most CPEs"
   ]
  },
  {
   "cell_type": "code",
   "execution_count": 4,
   "id": "96ff98c6",
   "metadata": {
    "execution": {
     "iopub.execute_input": "2025-03-31T08:17:40.752702Z",
     "iopub.status.busy": "2025-03-31T08:17:40.752163Z",
     "iopub.status.idle": "2025-03-31T08:17:41.006998Z",
     "shell.execute_reply": "2025-03-31T08:17:41.006414Z"
    },
    "tags": [
     "remove-input"
    ]
   },
   "outputs": [
    {
     "data": {
      "text/html": [
       "<div>\n",
       "<style scoped>\n",
       "    .dataframe tbody tr th:only-of-type {\n",
       "        vertical-align: middle;\n",
       "    }\n",
       "\n",
       "    .dataframe tbody tr th {\n",
       "        vertical-align: top;\n",
       "    }\n",
       "\n",
       "    .dataframe thead th {\n",
       "        text-align: right;\n",
       "    }\n",
       "</style>\n",
       "<table border=\"1\" class=\"dataframe\">\n",
       "  <thead>\n",
       "    <tr style=\"text-align: right;\">\n",
       "      <th></th>\n",
       "      <th>CVE</th>\n",
       "      <th>Count</th>\n",
       "    </tr>\n",
       "  </thead>\n",
       "  <tbody>\n",
       "    <tr>\n",
       "      <th>0</th>\n",
       "      <td>CVE-2016-1409</td>\n",
       "      <td>4891</td>\n",
       "    </tr>\n",
       "    <tr>\n",
       "      <th>1</th>\n",
       "      <td>CVE-2017-6770</td>\n",
       "      <td>3788</td>\n",
       "    </tr>\n",
       "    <tr>\n",
       "      <th>2</th>\n",
       "      <td>CVE-2016-6380</td>\n",
       "      <td>3334</td>\n",
       "    </tr>\n",
       "    <tr>\n",
       "      <th>3</th>\n",
       "      <td>CVE-2021-3942</td>\n",
       "      <td>2942</td>\n",
       "    </tr>\n",
       "    <tr>\n",
       "      <th>4</th>\n",
       "      <td>CVE-2024-20433</td>\n",
       "      <td>2434</td>\n",
       "    </tr>\n",
       "    <tr>\n",
       "      <th>5</th>\n",
       "      <td>CVE-2008-4609</td>\n",
       "      <td>2046</td>\n",
       "    </tr>\n",
       "    <tr>\n",
       "      <th>6</th>\n",
       "      <td>CVE-2020-3201</td>\n",
       "      <td>1917</td>\n",
       "    </tr>\n",
       "    <tr>\n",
       "      <th>7</th>\n",
       "      <td>CVE-2019-1761</td>\n",
       "      <td>1762</td>\n",
       "    </tr>\n",
       "    <tr>\n",
       "      <th>8</th>\n",
       "      <td>CVE-2021-34705</td>\n",
       "      <td>1721</td>\n",
       "    </tr>\n",
       "    <tr>\n",
       "      <th>9</th>\n",
       "      <td>CVE-2009-5040</td>\n",
       "      <td>1550</td>\n",
       "    </tr>\n",
       "    <tr>\n",
       "      <th>10</th>\n",
       "      <td>CVE-2022-20920</td>\n",
       "      <td>1446</td>\n",
       "    </tr>\n",
       "    <tr>\n",
       "      <th>11</th>\n",
       "      <td>CVE-2007-5381</td>\n",
       "      <td>1429</td>\n",
       "    </tr>\n",
       "    <tr>\n",
       "      <th>12</th>\n",
       "      <td>CVE-2011-2395</td>\n",
       "      <td>1409</td>\n",
       "    </tr>\n",
       "    <tr>\n",
       "      <th>13</th>\n",
       "      <td>CVE-2017-5753</td>\n",
       "      <td>1388</td>\n",
       "    </tr>\n",
       "    <tr>\n",
       "      <th>14</th>\n",
       "      <td>CVE-2020-0551</td>\n",
       "      <td>1321</td>\n",
       "    </tr>\n",
       "    <tr>\n",
       "      <th>15</th>\n",
       "      <td>CVE-2021-0144</td>\n",
       "      <td>1312</td>\n",
       "    </tr>\n",
       "    <tr>\n",
       "      <th>16</th>\n",
       "      <td>CVE-2021-0114</td>\n",
       "      <td>1312</td>\n",
       "    </tr>\n",
       "    <tr>\n",
       "      <th>17</th>\n",
       "      <td>CVE-2020-3204</td>\n",
       "      <td>1283</td>\n",
       "    </tr>\n",
       "    <tr>\n",
       "      <th>18</th>\n",
       "      <td>CVE-2020-3200</td>\n",
       "      <td>1198</td>\n",
       "    </tr>\n",
       "    <tr>\n",
       "      <th>19</th>\n",
       "      <td>CVE-2018-0197</td>\n",
       "      <td>1195</td>\n",
       "    </tr>\n",
       "  </tbody>\n",
       "</table>\n",
       "</div>"
      ],
      "text/plain": [
       "               CVE  Count\n",
       "0    CVE-2016-1409   4891\n",
       "1    CVE-2017-6770   3788\n",
       "2    CVE-2016-6380   3334\n",
       "3    CVE-2021-3942   2942\n",
       "4   CVE-2024-20433   2434\n",
       "5    CVE-2008-4609   2046\n",
       "6    CVE-2020-3201   1917\n",
       "7    CVE-2019-1761   1762\n",
       "8   CVE-2021-34705   1721\n",
       "9    CVE-2009-5040   1550\n",
       "10  CVE-2022-20920   1446\n",
       "11   CVE-2007-5381   1429\n",
       "12   CVE-2011-2395   1409\n",
       "13   CVE-2017-5753   1388\n",
       "14   CVE-2020-0551   1321\n",
       "15   CVE-2021-0144   1312\n",
       "16   CVE-2021-0114   1312\n",
       "17   CVE-2020-3204   1283\n",
       "18   CVE-2020-3200   1198\n",
       "19   CVE-2018-0197   1195"
      ]
     },
     "execution_count": 4,
     "metadata": {},
     "output_type": "execute_result"
    }
   ],
   "source": [
    "# Calculate the counts of CVEs\n",
    "cve_counts = nvd['CVE'].value_counts().reset_index()\n",
    "cve_counts.columns = ['CVE', 'Count']\n",
    "\n",
    "cve_counts.head(20)"
   ]
  },
  {
   "cell_type": "markdown",
   "id": "6e5141bf",
   "metadata": {},
   "source": [
    "### Most Common CPEs"
   ]
  },
  {
   "cell_type": "code",
   "execution_count": 5,
   "id": "bd16e9ab",
   "metadata": {
    "execution": {
     "iopub.execute_input": "2025-03-31T08:17:41.009124Z",
     "iopub.status.busy": "2025-03-31T08:17:41.008644Z",
     "iopub.status.idle": "2025-03-31T08:17:41.472320Z",
     "shell.execute_reply": "2025-03-31T08:17:41.471811Z"
    },
    "tags": [
     "remove-input"
    ]
   },
   "outputs": [
    {
     "data": {
      "text/html": [
       "<div>\n",
       "<style scoped>\n",
       "    .dataframe tbody tr th:only-of-type {\n",
       "        vertical-align: middle;\n",
       "    }\n",
       "\n",
       "    .dataframe tbody tr th {\n",
       "        vertical-align: top;\n",
       "    }\n",
       "\n",
       "    .dataframe thead th {\n",
       "        text-align: right;\n",
       "    }\n",
       "</style>\n",
       "<table border=\"1\" class=\"dataframe\">\n",
       "  <thead>\n",
       "    <tr style=\"text-align: right;\">\n",
       "      <th></th>\n",
       "      <th>CPE</th>\n",
       "      <th>Count</th>\n",
       "    </tr>\n",
       "  </thead>\n",
       "  <tbody>\n",
       "    <tr>\n",
       "      <th>0</th>\n",
       "      <td>cpe:2.3:o:linux:linux_kernel:*:*:*:*:*:*:*:*</td>\n",
       "      <td>19044</td>\n",
       "    </tr>\n",
       "    <tr>\n",
       "      <th>1</th>\n",
       "      <td>cpe:2.3:o:debian:debian_linux:9.0:*:*:*:*:*:*:*</td>\n",
       "      <td>3999</td>\n",
       "    </tr>\n",
       "    <tr>\n",
       "      <th>2</th>\n",
       "      <td>cpe:2.3:o:apple:iphone_os:*:*:*:*:*:*:*:*</td>\n",
       "      <td>3729</td>\n",
       "    </tr>\n",
       "    <tr>\n",
       "      <th>3</th>\n",
       "      <td>cpe:2.3:a:google:chrome:*:*:*:*:*:*:*:*</td>\n",
       "      <td>3606</td>\n",
       "    </tr>\n",
       "    <tr>\n",
       "      <th>4</th>\n",
       "      <td>cpe:2.3:o:debian:debian_linux:8.0:*:*:*:*:*:*:*</td>\n",
       "      <td>3481</td>\n",
       "    </tr>\n",
       "    <tr>\n",
       "      <th>5</th>\n",
       "      <td>cpe:2.3:o:debian:debian_linux:10.0:*:*:*:*:*:*:*</td>\n",
       "      <td>3222</td>\n",
       "    </tr>\n",
       "    <tr>\n",
       "      <th>6</th>\n",
       "      <td>cpe:2.3:o:microsoft:windows_server_2012:r2:*:*...</td>\n",
       "      <td>3091</td>\n",
       "    </tr>\n",
       "    <tr>\n",
       "      <th>7</th>\n",
       "      <td>cpe:2.3:o:microsoft:windows_server_2012:-:*:*:...</td>\n",
       "      <td>2949</td>\n",
       "    </tr>\n",
       "    <tr>\n",
       "      <th>8</th>\n",
       "      <td>cpe:2.3:o:apple:macos:*:*:*:*:*:*:*:*</td>\n",
       "      <td>2845</td>\n",
       "    </tr>\n",
       "    <tr>\n",
       "      <th>9</th>\n",
       "      <td>cpe:2.3:o:microsoft:windows_server_2019:-:*:*:...</td>\n",
       "      <td>2740</td>\n",
       "    </tr>\n",
       "    <tr>\n",
       "      <th>10</th>\n",
       "      <td>cpe:2.3:o:apple:mac_os_x:*:*:*:*:*:*:*:*</td>\n",
       "      <td>2725</td>\n",
       "    </tr>\n",
       "    <tr>\n",
       "      <th>11</th>\n",
       "      <td>cpe:2.3:o:microsoft:windows_server_2016:-:*:*:...</td>\n",
       "      <td>2676</td>\n",
       "    </tr>\n",
       "    <tr>\n",
       "      <th>12</th>\n",
       "      <td>cpe:2.3:a:gitlab:gitlab:*:*:*:*:enterprise:*:*:*</td>\n",
       "      <td>2441</td>\n",
       "    </tr>\n",
       "    <tr>\n",
       "      <th>13</th>\n",
       "      <td>cpe:2.3:a:adobe:acrobat_dc:*:*:*:*:classic:*:*:*</td>\n",
       "      <td>2377</td>\n",
       "    </tr>\n",
       "    <tr>\n",
       "      <th>14</th>\n",
       "      <td>cpe:2.3:a:adobe:acrobat_reader_dc:*:*:*:*:clas...</td>\n",
       "      <td>2374</td>\n",
       "    </tr>\n",
       "    <tr>\n",
       "      <th>15</th>\n",
       "      <td>cpe:2.3:a:mozilla:firefox:*:*:*:*:*:*:*:*</td>\n",
       "      <td>2368</td>\n",
       "    </tr>\n",
       "    <tr>\n",
       "      <th>16</th>\n",
       "      <td>cpe:2.3:a:gitlab:gitlab:*:*:*:*:community:*:*:*</td>\n",
       "      <td>2139</td>\n",
       "    </tr>\n",
       "    <tr>\n",
       "      <th>17</th>\n",
       "      <td>cpe:2.3:o:microsoft:windows_server_2008:r2:sp1...</td>\n",
       "      <td>2103</td>\n",
       "    </tr>\n",
       "    <tr>\n",
       "      <th>18</th>\n",
       "      <td>cpe:2.3:a:adobe:flash_player:*:*:*:*:*:*:*:*</td>\n",
       "      <td>1993</td>\n",
       "    </tr>\n",
       "    <tr>\n",
       "      <th>19</th>\n",
       "      <td>cpe:2.3:a:oracle:mysql:*:*:*:*:*:*:*:*</td>\n",
       "      <td>1971</td>\n",
       "    </tr>\n",
       "  </tbody>\n",
       "</table>\n",
       "</div>"
      ],
      "text/plain": [
       "                                                  CPE  Count\n",
       "0        cpe:2.3:o:linux:linux_kernel:*:*:*:*:*:*:*:*  19044\n",
       "1     cpe:2.3:o:debian:debian_linux:9.0:*:*:*:*:*:*:*   3999\n",
       "2           cpe:2.3:o:apple:iphone_os:*:*:*:*:*:*:*:*   3729\n",
       "3             cpe:2.3:a:google:chrome:*:*:*:*:*:*:*:*   3606\n",
       "4     cpe:2.3:o:debian:debian_linux:8.0:*:*:*:*:*:*:*   3481\n",
       "5    cpe:2.3:o:debian:debian_linux:10.0:*:*:*:*:*:*:*   3222\n",
       "6   cpe:2.3:o:microsoft:windows_server_2012:r2:*:*...   3091\n",
       "7   cpe:2.3:o:microsoft:windows_server_2012:-:*:*:...   2949\n",
       "8               cpe:2.3:o:apple:macos:*:*:*:*:*:*:*:*   2845\n",
       "9   cpe:2.3:o:microsoft:windows_server_2019:-:*:*:...   2740\n",
       "10           cpe:2.3:o:apple:mac_os_x:*:*:*:*:*:*:*:*   2725\n",
       "11  cpe:2.3:o:microsoft:windows_server_2016:-:*:*:...   2676\n",
       "12   cpe:2.3:a:gitlab:gitlab:*:*:*:*:enterprise:*:*:*   2441\n",
       "13   cpe:2.3:a:adobe:acrobat_dc:*:*:*:*:classic:*:*:*   2377\n",
       "14  cpe:2.3:a:adobe:acrobat_reader_dc:*:*:*:*:clas...   2374\n",
       "15          cpe:2.3:a:mozilla:firefox:*:*:*:*:*:*:*:*   2368\n",
       "16    cpe:2.3:a:gitlab:gitlab:*:*:*:*:community:*:*:*   2139\n",
       "17  cpe:2.3:o:microsoft:windows_server_2008:r2:sp1...   2103\n",
       "18       cpe:2.3:a:adobe:flash_player:*:*:*:*:*:*:*:*   1993\n",
       "19             cpe:2.3:a:oracle:mysql:*:*:*:*:*:*:*:*   1971"
      ]
     },
     "execution_count": 5,
     "metadata": {},
     "output_type": "execute_result"
    }
   ],
   "source": [
    "# Calculate the counts of CPEs\n",
    "cpe_counts = nvd['CPE'].value_counts().reset_index()\n",
    "cpe_counts.columns = ['CPE', 'Count']\n",
    "\n",
    "# Display the top 20 CPEs\n",
    "cpe_counts.head(20)"
   ]
  },
  {
   "attachments": {},
   "cell_type": "markdown",
   "id": "5dbbc915",
   "metadata": {
    "tags": [
     "hide-input"
    ]
   },
   "source": [
    "### Number of CPEs"
   ]
  },
  {
   "cell_type": "code",
   "execution_count": null,
   "id": "04a26e54",
   "metadata": {
    "execution": {
     "iopub.execute_input": "2025-03-31T08:17:41.474248Z",
     "iopub.status.busy": "2025-03-31T08:17:41.474068Z",
     "iopub.status.idle": "2025-03-31T08:17:42.128675Z",
     "shell.execute_reply": "2025-03-31T08:17:42.128153Z"
    },
    "tags": [
     "remove-input"
    ]
   },
   "outputs": [
    {
     "name": "stdout",
     "output_type": "stream",
     "text": [
      "There are 349,365 unique CPEs across 245,407 total CVEs.\n"
     ]
    }
   ],
   "source": [
    "# Calculate the number of unique CPEs\n",
    "unique_cpes = nvd['CPE'].nunique()\n",
    "\n",
    "# Calculate the total number of CVEs\n",
    "total_cves = nvd['CVE'].nunique()\n",
    "\n",
    "# Create a sentence with the information, adding commas to the numbers\n",
    "sentence = f\"There are {unique_cpes:,} unique CPEs across {total_cves:,} total CVEs.\"\n",
    "\n",
    "# Display the sentence\n",
    "print(sentence)"
   ]
  }
 ],
 "metadata": {
  "kernelspec": {
   "display_name": "Python 3",
   "language": "python",
   "name": "python3"
  },
  "language_info": {
   "codemirror_mode": {
    "name": "ipython",
    "version": 3
   },
   "file_extension": ".py",
   "mimetype": "text/x-python",
   "name": "python",
   "nbconvert_exporter": "python",
   "pygments_lexer": "ipython3",
   "version": "3.13.2"
  }
 },
 "nbformat": 4,
 "nbformat_minor": 5
}
