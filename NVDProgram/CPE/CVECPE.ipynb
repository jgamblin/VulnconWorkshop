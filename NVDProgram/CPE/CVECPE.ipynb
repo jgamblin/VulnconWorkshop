{
 "cells": [
  {
   "cell_type": "markdown",
   "id": "serious-pressing",
   "metadata": {},
   "source": [
    "# NVD CPE Data\n",
    "---"
   ]
  },
  {
   "cell_type": "code",
   "execution_count": null,
   "id": "91b44dc2",
   "metadata": {
    "execution": {
     "iopub.execute_input": "2025-03-31T08:17:15.411106Z",
     "iopub.status.busy": "2025-03-31T08:17:15.410733Z",
     "iopub.status.idle": "2025-03-31T08:17:16.049762Z",
     "shell.execute_reply": "2025-03-31T08:17:16.049191Z"
    },
    "tags": [
     "remove-cell"
    ]
   },
   "outputs": [],
   "source": [
    "import json\n",
    "import pandas as pd\n",
    "import glob\n",
    "import re\n",
    "import numpy as np \n",
    "import matplotlib.pyplot as plt\n",
    "from datetime import date"
   ]
  },
  {
   "cell_type": "code",
   "execution_count": null,
   "id": "98bafc2f-2e20-4032-a091-ec2dc0ecb7a5",
   "metadata": {
    "execution": {
     "iopub.execute_input": "2025-03-31T08:17:16.051843Z",
     "iopub.status.busy": "2025-03-31T08:17:16.051432Z",
     "iopub.status.idle": "2025-03-31T08:17:40.750227Z",
     "shell.execute_reply": "2025-03-31T08:17:40.749656Z"
    },
    "tags": [
     "remove-cell"
    ]
   },
   "outputs": [],
   "source": [
    "row_accumulator = []\n",
    "\n",
    "for filename in glob.glob('../../Data/NVD/nvd.jsonl'):\n",
    "    with open(filename, 'r', encoding='utf-8') as f:\n",
    "        nvd_data = json.load(f)\n",
    "        for entry in nvd_data:\n",
    "            if 'configurations' in entry['cve']:\n",
    "                for config in entry['cve']['configurations']:\n",
    "                    for node in config['nodes']:\n",
    "                        if 'cpeMatch' in node:\n",
    "                            for cpe in node['cpeMatch']:\n",
    "                                if cpe['vulnerable']:\n",
    "                                    cve = entry['cve']['id']\n",
    "                                    published_date = entry['cve'].get('published', 'Missing_Data')\n",
    "                                    cpe_string = cpe['criteria']\n",
    "                                    end = cpe.get('versionEndExcluding', 'None')\n",
    "                                    end2 = cpe.get('versionEndIncluding', 'None')\n",
    "                                    start = cpe.get('versionStartExcluding', 'None')\n",
    "                                    start2 = cpe.get('versionStartIncluding', 'None')\n",
    "\n",
    "                                    new_row = {\n",
    "                                        'CVE': cve,\n",
    "                                        'Published': published_date,\n",
    "                                        'CPE': cpe_string,\n",
    "                                        'StartI': start,\n",
    "                                        'StartE': start2,\n",
    "                                        'EndI': end,\n",
    "                                        'EndE': end2\n",
    "                                    }\n",
    "                                    row_accumulator.append(new_row)\n",
    "\n",
    "nvd = pd.DataFrame(row_accumulator)\n",
    "nvd['Published'] = pd.to_datetime(nvd['Published'], errors='coerce')\n",
    "thisyear = (nvd['Published'] > '2000-01-01') & (nvd['Published'] < '2026-01-01')\n",
    "nvd = nvd.loc[thisyear]\n",
    "nvd = nvd.sort_values(by=['Published'])"
   ]
  },
  {
   "attachments": {},
   "cell_type": "markdown",
   "id": "f0210783",
   "metadata": {
    "tags": [
     "hide-input"
    ]
   },
   "source": [
    "## CPE Data"
   ]
  },
  {
   "cell_type": "markdown",
   "id": "0c3388d0",
   "metadata": {},
   "source": [
    "### CVEs With Most CPEs"
   ]
  },
  {
   "cell_type": "code",
   "execution_count": null,
   "id": "96ff98c6",
   "metadata": {
    "execution": {
     "iopub.execute_input": "2025-03-31T08:17:40.752702Z",
     "iopub.status.busy": "2025-03-31T08:17:40.752163Z",
     "iopub.status.idle": "2025-03-31T08:17:41.006998Z",
     "shell.execute_reply": "2025-03-31T08:17:41.006414Z"
    },
    "tags": [
     "remove-input"
    ]
   },
   "outputs": [],
   "source": [
    "# Calculate the counts of CVEs\n",
    "cve_counts = nvd['CVE'].value_counts().reset_index()\n",
    "cve_counts.columns = ['CVE', 'Count']\n",
    "\n",
    "cve_counts.head(20)"
   ]
  },
  {
   "cell_type": "markdown",
   "id": "6e5141bf",
   "metadata": {},
   "source": [
    "### Most Common CPEs"
   ]
  },
  {
   "cell_type": "code",
   "execution_count": null,
   "id": "bd16e9ab",
   "metadata": {
    "execution": {
     "iopub.execute_input": "2025-03-31T08:17:41.009124Z",
     "iopub.status.busy": "2025-03-31T08:17:41.008644Z",
     "iopub.status.idle": "2025-03-31T08:17:41.472320Z",
     "shell.execute_reply": "2025-03-31T08:17:41.471811Z"
    },
    "tags": [
     "remove-input"
    ]
   },
   "outputs": [],
   "source": [
    "# Calculate the counts of CPEs\n",
    "cpe_counts = nvd['CPE'].value_counts().reset_index()\n",
    "cpe_counts.columns = ['CPE', 'Count']\n",
    "\n",
    "# Display the top 20 CPEs\n",
    "cpe_counts.head(20)"
   ]
  },
  {
   "attachments": {},
   "cell_type": "markdown",
   "id": "5dbbc915",
   "metadata": {
    "tags": [
     "hide-input"
    ]
   },
   "source": [
    "### Number of CPEs"
   ]
  },
  {
   "cell_type": "code",
   "execution_count": null,
   "id": "04a26e54",
   "metadata": {
    "execution": {
     "iopub.execute_input": "2025-03-31T08:17:41.474248Z",
     "iopub.status.busy": "2025-03-31T08:17:41.474068Z",
     "iopub.status.idle": "2025-03-31T08:17:42.128675Z",
     "shell.execute_reply": "2025-03-31T08:17:42.128153Z"
    },
    "tags": [
     "remove-input"
    ]
   },
   "outputs": [],
   "source": [
    "# Calculate the number of unique CPEs\n",
    "unique_cpes = nvd['CPE'].nunique()\n",
    "\n",
    "# Calculate the total number of CVEs\n",
    "total_cves = nvd['CVE'].nunique()\n",
    "\n",
    "# Create a sentence with the information, adding commas to the numbers\n",
    "sentence = f\"There are {unique_cpes:,} unique CPEs across {total_cves:,} total CVEs.\"\n",
    "\n",
    "# Display the sentence\n",
    "print(sentence)"
   ]
  }
 ],
 "metadata": {
  "kernelspec": {
   "display_name": "Python 3",
   "language": "python",
   "name": "python3"
  },
  "language_info": {
   "codemirror_mode": {
    "name": "ipython",
    "version": 3
   },
   "file_extension": ".py",
   "mimetype": "text/x-python",
   "name": "python",
   "nbconvert_exporter": "python",
   "pygments_lexer": "ipython3",
   "version": "3.13.2"
  }
 },
 "nbformat": 4,
 "nbformat_minor": 5
}
