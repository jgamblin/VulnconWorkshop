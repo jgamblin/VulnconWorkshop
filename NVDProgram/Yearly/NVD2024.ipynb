{
 "cells": [
  {
   "cell_type": "markdown",
   "id": "cafd22b6",
   "metadata": {},
   "source": [
    "# 2024 NVD Data\n",
    "---"
   ]
  },
  {
   "cell_type": "code",
   "execution_count": null,
   "id": "91b44dc2",
   "metadata": {
    "execution": {
     "iopub.execute_input": "2025-03-31T08:13:12.233547Z",
     "iopub.status.busy": "2025-03-31T08:13:12.233358Z",
     "iopub.status.idle": "2025-03-31T08:13:12.876394Z",
     "shell.execute_reply": "2025-03-31T08:13:12.875832Z"
    },
    "tags": [
     "remove-cell"
    ]
   },
   "outputs": [],
   "source": [
    "import json\n",
    "import pandas as pd\n",
    "import glob\n",
    "import re\n",
    "import numpy as np \n",
    "import matplotlib.pyplot as plt\n",
    "from datetime import date"
   ]
  },
  {
   "cell_type": "code",
   "execution_count": null,
   "id": "98bafc2f-2e20-4032-a091-ec2dc0ecb7a5",
   "metadata": {
    "execution": {
     "iopub.execute_input": "2025-03-31T08:13:12.878708Z",
     "iopub.status.busy": "2025-03-31T08:13:12.878221Z",
     "iopub.status.idle": "2025-03-31T08:13:37.440601Z",
     "shell.execute_reply": "2025-03-31T08:13:37.439938Z"
    },
    "tags": [
     "remove-cell"
    ]
   },
   "outputs": [],
   "source": [
    "def get_nested_value(entry, keys, default='Missing_Data'):\n",
    "    try:\n",
    "        for key in keys:\n",
    "            entry = entry[key]\n",
    "        return entry\n",
    "    except (KeyError, IndexError):\n",
    "        return default\n",
    "\n",
    "row_accumulator = []\n",
    "for filename in glob.glob('../../Data/NVD/nvd.jsonl'):\n",
    "    with open(filename, 'r', encoding='utf-8') as f:\n",
    "        nvd_data = json.load(f)\n",
    "        for entry in nvd_data:\n",
    "            new_row = {\n",
    "                'CVE': get_nested_value(entry, ['cve', 'id']),\n",
    "                'Published': get_nested_value(entry, ['cve', 'published']),\n",
    "                'AttackVector': get_nested_value(entry, ['cve', 'metrics', 'cvssMetricV31', 0, 'cvssData', 'attackVector']),\n",
    "                'AttackComplexity': get_nested_value(entry, ['cve', 'metrics', 'cvssMetricV31', 0, 'cvssData', 'attackComplexity']),\n",
    "                'PrivilegesRequired': get_nested_value(entry, ['cve', 'metrics', 'cvssMetricV31', 0, 'cvssData', 'privilegesRequired']),\n",
    "                'UserInteraction': get_nested_value(entry, ['cve', 'metrics', 'cvssMetricV31', 0, 'cvssData', 'userInteraction']),\n",
    "                'Scope': get_nested_value(entry, ['cve', 'metrics', 'cvssMetricV31', 0, 'cvssData', 'scope']),\n",
    "                'ConfidentialityImpact': get_nested_value(entry, ['cve', 'metrics', 'cvssMetricV31', 0, 'cvssData', 'confidentialityImpact']),\n",
    "                'IntegrityImpact': get_nested_value(entry, ['cve', 'metrics', 'cvssMetricV31', 0, 'cvssData', 'integrityImpact']),\n",
    "                'AvailabilityImpact': get_nested_value(entry, ['cve', 'metrics', 'cvssMetricV31', 0, 'cvssData', 'availabilityImpact']),\n",
    "                'BaseScore': get_nested_value(entry, ['cve', 'metrics', 'cvssMetricV31', 0, 'cvssData', 'baseScore'], '0.0'),\n",
    "                'BaseSeverity': get_nested_value(entry, ['cve', 'metrics', 'cvssMetricV31', 0, 'cvssData', 'baseSeverity']),\n",
    "                'ExploitabilityScore': get_nested_value(entry, ['cve', 'metrics', 'cvssMetricV31', 0, 'exploitabilityScore']),\n",
    "                'ImpactScore': get_nested_value(entry, ['cve', 'metrics', 'cvssMetricV31', 0, 'impactScore']),\n",
    "                'CWE': get_nested_value(entry, ['cve', 'weaknesses', 0, 'description', 0, 'value']),\n",
    "                'Description': get_nested_value(entry, ['cve', 'descriptions', 0, 'value'], ''),\n",
    "                'Assigner': get_nested_value(entry, ['cve', 'sourceIdentifier']),\n",
    "                'Tag': get_nested_value(entry, ['cve', 'cveTags', 0, 'tags'], np.nan),\n",
    "                'Status': get_nested_value(entry, ['cve', 'vulnStatus'], '')\n",
    "            }\n",
    "            row_accumulator.append(new_row)\n",
    "\n",
    "nvd = pd.DataFrame(row_accumulator)\n",
    "nvd = nvd[~nvd.Status.str.contains('Rejected')]\n",
    "nvd['Published'] = pd.to_datetime(nvd['Published'])\n",
    "nvd = nvd.sort_values(by=['Published'])\n",
    "thisyear = ((nvd['Published'] > '2024-01-01') & (nvd['Published']  < '2025-01-01'))\n",
    "nvd = nvd.loc[thisyear]\n",
    "nvd = nvd.sort_values(by=['Published'])\n",
    "nvd = nvd.reset_index(drop=True)\n",
    "nvd['BaseScore'] = pd.to_numeric(nvd['BaseScore']);\n",
    "nvd['BaseScore'] = pd.to_numeric(nvd['BaseScore']);\n",
    "nvd['BaseScore'] = nvd['BaseScore'].replace(0, np.nan);\n",
    "nvdcount = nvd['Published'].count()\n",
    "nvdunique = nvd['Published'].nunique()\n",
    "startdate = date(2024, 1, 1)\n",
    "enddate  = date(2025, 1, 1)\n",
    "numberofdays = enddate - startdate \n",
    "per_day = nvdcount/numberofdays.days"
   ]
  },
  {
   "cell_type": "code",
   "execution_count": null,
   "id": "fb2368b3",
   "metadata": {
    "execution": {
     "iopub.execute_input": "2025-03-31T08:13:37.442918Z",
     "iopub.status.busy": "2025-03-31T08:13:37.442710Z",
     "iopub.status.idle": "2025-03-31T08:13:37.451378Z",
     "shell.execute_reply": "2025-03-31T08:13:37.450824Z"
    },
    "tags": [
     "remove-input"
    ]
   },
   "outputs": [],
   "source": [
    "print(f\"Total Number of CVEs: {nvd['CVE'].count()}\\nAverage CVEs Per Day: {per_day.round(2)}\\nAverage CVSS Score: {nvd['BaseScore'].mean().round(2)}\")"
   ]
  },
  {
   "cell_type": "markdown",
   "id": "18a9c60b",
   "metadata": {
    "tags": [
     "hide-input"
    ]
   },
   "source": [
    "\n",
    "\n",
    "## CVE Graphs"
   ]
  },
  {
   "cell_type": "code",
   "execution_count": null,
   "id": "39c9867a",
   "metadata": {
    "execution": {
     "iopub.execute_input": "2025-03-31T08:13:38.337129Z",
     "iopub.status.busy": "2025-03-31T08:13:38.336770Z",
     "iopub.status.idle": "2025-03-31T08:13:38.348418Z",
     "shell.execute_reply": "2025-03-31T08:13:38.348011Z"
    },
    "tags": [
     "remove-cell"
    ]
   },
   "outputs": [],
   "source": [
    "Month_Graph = nvd['Published'].groupby(nvd.Published.dt.to_period(\"M\")).agg('count')\n",
    "Year_Graph = nvd['Published'].groupby(nvd.Published.dt.to_period(\"Y\")).agg('count')\n",
    "Week_Graph = nvd['Published'].groupby(nvd.Published.dt.to_period(\"W\")).agg('count')\n",
    "Day_Graph = nvd['Published'].groupby(nvd.Published.dt.to_period(\"D\")).agg('count')"
   ]
  },
  {
   "cell_type": "markdown",
   "id": "2ce24285",
   "metadata": {
    "tags": [
     "hide-input"
    ]
   },
   "source": [
    "### CVE Per Month Graph"
   ]
  },
  {
   "cell_type": "code",
   "execution_count": null,
   "id": "endless-cylinder",
   "metadata": {
    "execution": {
     "iopub.execute_input": "2025-03-31T08:13:38.350241Z",
     "iopub.status.busy": "2025-03-31T08:13:38.349905Z",
     "iopub.status.idle": "2025-03-31T08:13:38.558961Z",
     "shell.execute_reply": "2025-03-31T08:13:38.558431Z"
    },
    "tags": [
     "remove-input"
    ]
   },
   "outputs": [],
   "source": [
    "cg = Month_Graph.plot.area(colormap='cividis', figsize=(16, 8), title='Number of CVEs Published Per Month')\n",
    "plt.grid(True, linestyle='--', linewidth=0.5)\n",
    "cg.set_ylabel(\"CVEs\")\n",
    "cg.set_xlabel(\"Month\")\n",
    "\n",
    "# Add watermark\n",
    "plt.text(0.01, 0.01, 'cve.icu', transform=cg.transAxes, fontsize=12, color='gray', alpha=0.5)\n",
    "\n",
    "# Adjust layout and save the chart as a PNG file one directory up\n",
    "plt.tight_layout()\n",
    "plt.show()"
   ]
  },
  {
   "cell_type": "markdown",
   "id": "befe79e1",
   "metadata": {
    "tags": [
     "hide-input"
    ]
   },
   "source": [
    "\n",
    "\n",
    "### CVE Per Week Graph"
   ]
  },
  {
   "cell_type": "code",
   "execution_count": null,
   "id": "common-louis",
   "metadata": {
    "execution": {
     "iopub.execute_input": "2025-03-31T08:13:38.561010Z",
     "iopub.status.busy": "2025-03-31T08:13:38.560654Z",
     "iopub.status.idle": "2025-03-31T08:13:38.840817Z",
     "shell.execute_reply": "2025-03-31T08:13:38.840228Z"
    },
    "tags": [
     "remove-input"
    ]
   },
   "outputs": [],
   "source": [
    "cg = Week_Graph.plot.area(colormap='cividis', figsize=(16, 8), title='Number of CVEs Published Per Week')\n",
    "plt.grid(True, linestyle='--', linewidth=0.5)\n",
    "cg.set_ylabel(\"CVEs\")\n",
    "cg.set_xlabel(\"Week\")\n",
    "\n",
    "# Add watermark\n",
    "plt.text(0.01, 0.01, 'cve.icu', transform=cg.transAxes, fontsize=12, color='gray', alpha=0.5)\n",
    "\n",
    "# Adjust layout and save the chart as a PNG file one directory up\n",
    "plt.tight_layout()\n",
    "plt.show()"
   ]
  },
  {
   "cell_type": "markdown",
   "id": "989be730",
   "metadata": {
    "tags": [
     "hide-input"
    ]
   },
   "source": [
    "\n",
    "\n",
    "### CVE Per Day Graph"
   ]
  },
  {
   "cell_type": "code",
   "execution_count": null,
   "id": "smooth-stupid",
   "metadata": {
    "execution": {
     "iopub.execute_input": "2025-03-31T08:13:38.843189Z",
     "iopub.status.busy": "2025-03-31T08:13:38.842688Z",
     "iopub.status.idle": "2025-03-31T08:13:39.128299Z",
     "shell.execute_reply": "2025-03-31T08:13:39.127734Z"
    },
    "tags": [
     "remove-input"
    ]
   },
   "outputs": [],
   "source": [
    "cg = Day_Graph.plot.area(colormap='cividis', figsize=(16, 8), title='Number of CVEs Published Per Day')\n",
    "plt.grid(True, linestyle='--', linewidth=0.5)\n",
    "cg.set_ylabel(\"CVEs\")\n",
    "cg.set_xlabel(\"Day\")\n",
    "\n",
    "# Add watermark\n",
    "plt.text(0.01, 0.01, 'cve.icu', transform=cg.transAxes, fontsize=12, color='gray', alpha=0.5)\n",
    "\n",
    "# Adjust layout\n",
    "plt.tight_layout()\n",
    "plt.show()"
   ]
  },
  {
   "cell_type": "markdown",
   "id": "51593e0c",
   "metadata": {
    "tags": [
     "hide-input"
    ]
   },
   "source": [
    "\n",
    "## CVSS Data"
   ]
  },
  {
   "cell_type": "code",
   "execution_count": null,
   "id": "0652f359",
   "metadata": {
    "execution": {
     "iopub.execute_input": "2025-03-31T08:13:39.130195Z",
     "iopub.status.busy": "2025-03-31T08:13:39.129981Z",
     "iopub.status.idle": "2025-03-31T08:13:39.373672Z",
     "shell.execute_reply": "2025-03-31T08:13:39.373058Z"
    },
    "tags": [
     "remove-input"
    ]
   },
   "outputs": [],
   "source": [
    "\n",
    "nvd['BaseScore'] = pd.to_numeric(nvd['BaseScore'])\n",
    "nvd['BaseScore'] = nvd['BaseScore'].replace(0, np.nan)\n",
    "\n",
    "# Plot the CVSS breakdown with 100 bins\n",
    "cg = nvd['BaseScore'].plot(kind=\"hist\", bins=100, title='CVSS Breakdown', colormap='cividis', figsize=(16, 8))\n",
    "plt.grid(True, linestyle='--', linewidth=0.5)\n",
    "cg.set_ylabel(\"CVEs\")\n",
    "cg.set_xlabel(\"CVSS Score\")\n",
    "\n",
    "# Find the most common, least common, and average CVSS scores\n",
    "most_common_score = nvd['BaseScore'].mode()[0]\n",
    "least_common_score = nvd['BaseScore'].value_counts().idxmin()\n",
    "most_common_count = nvd['BaseScore'].value_counts().max()\n",
    "least_common_count = nvd['BaseScore'].value_counts().min()\n",
    "average_score = nvd['BaseScore'].mean().round(2)\n",
    "\n",
    "# Add annotation for the most common, least common, and average CVSS scores\n",
    "annotation_text = (f'Most Common: {most_common_score} ({most_common_count} CVEs)\\n'\n",
    "                   f'Least Common: {least_common_score} ({least_common_count} CVEs)\\n'\n",
    "                   f'Average Score: {average_score}')\n",
    "plt.text(0.01, 0.98, annotation_text, transform=cg.transAxes, fontsize=10, color='black',\n",
    "         verticalalignment='top', bbox=dict(boxstyle=\"round,pad=0.3\", edgecolor='black', facecolor='white'))\n",
    "\n",
    "# Adjust layout and save the chart as a PNG file one directory up\n",
    "plt.tight_layout()\n",
    "plt.show()"
   ]
  },
  {
   "cell_type": "markdown",
   "id": "f0210783",
   "metadata": {
    "tags": [
     "hide-input"
    ]
   },
   "source": [
    "## CNA Data\n",
    "\n",
    "### CNA Assigner Graph"
   ]
  },
  {
   "cell_type": "code",
   "execution_count": null,
   "id": "96ff98c6",
   "metadata": {
    "execution": {
     "iopub.execute_input": "2025-03-31T08:13:39.375635Z",
     "iopub.status.busy": "2025-03-31T08:13:39.375419Z",
     "iopub.status.idle": "2025-03-31T08:13:40.012794Z",
     "shell.execute_reply": "2025-03-31T08:13:40.012246Z"
    },
    "tags": [
     "remove-input"
    ]
   },
   "outputs": [],
   "source": [
    "# Replace specific assigner ID with email\n",
    "nvd['Assigner'].replace('416baaa9-dc9f-4396-8d5f-8c081fb06d67', 'cve@kernel.org', inplace=True)\n",
    "\n",
    "# Extract domain names and check for uniqueness\n",
    "nvd['Domain'] = nvd['Assigner'].apply(lambda x: x.split('@')[-1])\n",
    "domain_counts = nvd['Domain'].value_counts()\n",
    "\n",
    "# Modify Assigner column based on domain uniqueness\n",
    "unique_domains = nvd.groupby('Domain')['Assigner'].nunique()\n",
    "nvd['Assigner'] = nvd.apply(lambda x: x['Domain'] if unique_domains[x['Domain']] == 1 else f\"{x['Domain']} ({x['Assigner'].split('@')[0]})\", axis=1)\n",
    "\n",
    "# Calculate frequency of assigners\n",
    "nvd_frequency = nvd['Assigner'].value_counts().reset_index()\n",
    "nvd_frequency.columns = ['Assigner', 'counts']\n",
    "nvd_frequency = nvd_frequency.head(50)\n",
    "\n",
    "# Calculate the number of CVEs published by mitre.org\n",
    "mitre_cves = nvd_frequency[nvd_frequency['Assigner'].str.contains('mitre.org')]['counts'].sum()\n",
    "\n",
    "# Remove mitre.org from the frequency list\n",
    "nvd_frequency_no_mitre = nvd_frequency[~nvd_frequency.Assigner.str.contains('mitre.org')]\n",
    "nvd_frequency_no_mitre = nvd_frequency_no_mitre[nvd_frequency_no_mitre.counts > 100].head(20)\n",
    "\n",
    "# Plot the top 20 CNAs\n",
    "plt.figure(figsize=(16, 8))\n",
    "plt.barh(\"Assigner\", \"counts\", data=nvd_frequency_no_mitre, color=\"#001d82\")\n",
    "plt.xlabel(\"CVEs\")\n",
    "plt.ylabel(\"Assigner\")\n",
    "plt.title(\"Top 20 CNAs\")\n",
    "plt.grid(True, linestyle='--', linewidth=0.5)\n",
    "\n",
    "# Add a text box indicating mitre.org has been removed and the number of CVEs they published\n",
    "textstr = f'{mitre_cves:,} CVEs published by MITRE not shown'\n",
    "plt.text(0.99, 0.98, textstr, transform=plt.gca().transAxes, fontsize=10,\n",
    "         verticalalignment='top', horizontalalignment='right',\n",
    "         bbox=dict(boxstyle=\"round,pad=0.3\", edgecolor='black', facecolor='white'))\n",
    "\n",
    "# Adjust layout and show the chart\n",
    "plt.tight_layout()\n",
    "plt.show()"
   ]
  },
  {
   "cell_type": "markdown",
   "id": "aa3ea191",
   "metadata": {
    "tags": [
     "hide-input"
    ]
   },
   "source": [
    "\n",
    "\n",
    "## CWE Data"
   ]
  },
  {
   "cell_type": "code",
   "execution_count": null,
   "id": "6815f0a1",
   "metadata": {
    "execution": {
     "iopub.execute_input": "2025-03-31T08:13:40.014893Z",
     "iopub.status.busy": "2025-03-31T08:13:40.014439Z",
     "iopub.status.idle": "2025-03-31T08:13:40.268241Z",
     "shell.execute_reply": "2025-03-31T08:13:40.267745Z"
    },
    "tags": [
     "remove-input"
    ]
   },
   "outputs": [],
   "source": [
    "# Calculate frequency of CWEs\n",
    "nvd_cwe = nvd['CWE'].value_counts().reset_index()\n",
    "nvd_cwe.columns = ['CWE', 'counts']\n",
    "nvd_cwe = nvd_cwe[~nvd_cwe.CWE.str.contains('Missing_')]\n",
    "nvd_cwe = nvd_cwe[nvd_cwe.counts > 100].head(25)\n",
    "\n",
    "# Plot the most common CWEs\n",
    "plt.figure(figsize=(16, 8))\n",
    "plt.barh(\"CWE\", \"counts\", data=nvd_cwe, color=\"#001d82\")\n",
    "plt.xlabel(\"Count\")\n",
    "plt.ylabel(\"CWE\")\n",
    "plt.title(\"Most Common CWE in CVE Records\")\n",
    "plt.grid(True, linestyle='--', linewidth=0.5)\n",
    "\n",
    "# Adjust layout and show the chart\n",
    "plt.tight_layout()\n",
    "plt.show()"
   ]
  },
  {
   "cell_type": "markdown",
   "id": "1cbec814-905a-4028-b72f-98da5081b10d",
   "metadata": {
    "tags": [
     "hide-input"
    ]
   },
   "source": [
    "\n",
    "\n",
    "## More CVE Data"
   ]
  },
  {
   "cell_type": "markdown",
   "id": "5dbbc915",
   "metadata": {
    "tags": [
     "hide-input"
    ]
   },
   "source": [
    "\n",
    "\n",
    "\n",
    "### Top CNA Assigner"
   ]
  },
  {
   "cell_type": "code",
   "execution_count": null,
   "id": "04a26e54",
   "metadata": {
    "execution": {
     "iopub.execute_input": "2025-03-31T08:13:40.270288Z",
     "iopub.status.busy": "2025-03-31T08:13:40.269920Z",
     "iopub.status.idle": "2025-03-31T08:13:40.276401Z",
     "shell.execute_reply": "2025-03-31T08:13:40.275958Z"
    },
    "tags": [
     "remove-input"
    ]
   },
   "outputs": [],
   "source": [
    "nvd_frequency.reset_index(drop=True, inplace=True)\n",
    "nvd_frequency.head(10)\n"
   ]
  },
  {
   "attachments": {},
   "cell_type": "markdown",
   "id": "0aa62111",
   "metadata": {},
   "source": [
    "### Top CWEs"
   ]
  },
  {
   "cell_type": "code",
   "execution_count": null,
   "id": "03a397e2",
   "metadata": {
    "execution": {
     "iopub.execute_input": "2025-03-31T08:13:40.278250Z",
     "iopub.status.busy": "2025-03-31T08:13:40.277904Z",
     "iopub.status.idle": "2025-03-31T08:13:40.283274Z",
     "shell.execute_reply": "2025-03-31T08:13:40.282742Z"
    },
    "tags": [
     "remove-input"
    ]
   },
   "outputs": [],
   "source": [
    "nvd_cwe.reset_index(drop=True, inplace=True)\n",
    "nvd_cwe.head(10)"
   ]
  },
  {
   "cell_type": "markdown",
   "id": "aa164366-d0e6-4ca5-890b-95ea69f2801c",
   "metadata": {
    "tags": [
     "hide-input"
    ]
   },
   "source": [
    "\n",
    "\n",
    "\n",
    "### CVEs By Identifier"
   ]
  },
  {
   "cell_type": "code",
   "execution_count": null,
   "id": "661f28f1-9568-4e97-acb3-75e45e596f1f",
   "metadata": {
    "execution": {
     "iopub.execute_input": "2025-03-31T08:13:40.285141Z",
     "iopub.status.busy": "2025-03-31T08:13:40.284814Z",
     "iopub.status.idle": "2025-03-31T08:13:40.728963Z",
     "shell.execute_reply": "2025-03-31T08:13:40.728386Z"
    },
    "tags": [
     "remove-input"
    ]
   },
   "outputs": [],
   "source": [
    "years = range(1980, 2025)\n",
    "cve_counts = []\n",
    "\n",
    "for year in years:\n",
    "    count = len(nvd[nvd['CVE'].str.contains(f'CVE-{year}-')])\n",
    "    cve_counts.append({'Identifier': f'CVE-{year}', 'Count': count})\n",
    "\n",
    "cve_df = pd.DataFrame(cve_counts)\n",
    "\n",
    "# Filter out rows with a count of 0\n",
    "cve_df = cve_df[cve_df['Count'] != 0]\n",
    "\n",
    "# Reset the index\n",
    "cve_df.reset_index(drop=True, inplace=True)\n",
    "\n",
    "cve_df"
   ]
  }
 ],
 "metadata": {
  "kernelspec": {
   "display_name": "Python 3",
   "language": "python",
   "name": "python3"
  },
  "language_info": {
   "codemirror_mode": {
    "name": "ipython",
    "version": 3
   },
   "file_extension": ".py",
   "mimetype": "text/x-python",
   "name": "python",
   "nbconvert_exporter": "python",
   "pygments_lexer": "ipython3",
   "version": "3.13.2"
  }
 },
 "nbformat": 4,
 "nbformat_minor": 5
}
