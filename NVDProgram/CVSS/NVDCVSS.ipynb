{
 "cells": [
  {
   "cell_type": "markdown",
   "id": "436c3735-6643-4c2e-8e7a-2c91eceb5321",
   "metadata": {},
   "source": [
    "# NVD CVSS Data\n",
    "---"
   ]
  },
  {
   "cell_type": "code",
   "execution_count": null,
   "id": "a8face4a-ddee-4bd5-a84e-97f2bd508491",
   "metadata": {
    "execution": {
     "iopub.execute_input": "2025-03-31T08:15:33.394545Z",
     "iopub.status.busy": "2025-03-31T08:15:33.394347Z",
     "iopub.status.idle": "2025-03-31T08:15:34.033829Z",
     "shell.execute_reply": "2025-03-31T08:15:34.033239Z"
    },
    "tags": [
     "remove-cell"
    ]
   },
   "outputs": [],
   "source": [
    "import json\n",
    "import pandas as pd\n",
    "import glob\n",
    "import re\n",
    "import numpy as np \n",
    "import matplotlib.pyplot as plt"
   ]
  },
  {
   "cell_type": "code",
   "execution_count": null,
   "id": "fb89c5a2-83da-459d-be6c-456a949cf3dd",
   "metadata": {
    "execution": {
     "iopub.execute_input": "2025-03-31T08:15:34.035885Z",
     "iopub.status.busy": "2025-03-31T08:15:34.035558Z",
     "iopub.status.idle": "2025-03-31T08:15:58.587501Z",
     "shell.execute_reply": "2025-03-31T08:15:58.586897Z"
    },
    "tags": [
     "remove-cell"
    ]
   },
   "outputs": [],
   "source": [
    "def get_nested_value(entry, keys, default='Missing_Data'):\n",
    "    try:\n",
    "        for key in keys:\n",
    "            entry = entry[key]\n",
    "        return entry\n",
    "    except (KeyError, IndexError):\n",
    "        return default\n",
    "\n",
    "row_accumulator = []\n",
    "for filename in glob.glob('../../Data/NVD/nvd.jsonl'):\n",
    "    with open(filename, 'r', encoding='utf-8') as f:\n",
    "        nvd_data = json.load(f)\n",
    "        for entry in nvd_data:\n",
    "            new_row = {\n",
    "                'CVE': get_nested_value(entry, ['cve', 'id']),\n",
    "                'Published': get_nested_value(entry, ['cve', 'published']),\n",
    "                'AttackVector': get_nested_value(entry, ['cve', 'metrics', 'cvssMetricV31', 0, 'cvssData', 'attackVector']),\n",
    "                'AttackComplexity': get_nested_value(entry, ['cve', 'metrics', 'cvssMetricV31', 0, 'cvssData', 'attackComplexity']),\n",
    "                'PrivilegesRequired': get_nested_value(entry, ['cve', 'metrics', 'cvssMetricV31', 0, 'cvssData', 'privilegesRequired']),\n",
    "                'UserInteraction': get_nested_value(entry, ['cve', 'metrics', 'cvssMetricV31', 0, 'cvssData', 'userInteraction']),\n",
    "                'Scope': get_nested_value(entry, ['cve', 'metrics', 'cvssMetricV31', 0, 'cvssData', 'scope']),\n",
    "                'ConfidentialityImpact': get_nested_value(entry, ['cve', 'metrics', 'cvssMetricV31', 0, 'cvssData', 'confidentialityImpact']),\n",
    "                'IntegrityImpact': get_nested_value(entry, ['cve', 'metrics', 'cvssMetricV31', 0, 'cvssData', 'integrityImpact']),\n",
    "                'AvailabilityImpact': get_nested_value(entry, ['cve', 'metrics', 'cvssMetricV31', 0, 'cvssData', 'availabilityImpact']),\n",
    "                'BaseScore': get_nested_value(entry, ['cve', 'metrics', 'cvssMetricV31', 0, 'cvssData', 'baseScore'], '0.0'),\n",
    "                'BaseSeverity': get_nested_value(entry, ['cve', 'metrics', 'cvssMetricV31', 0, 'cvssData', 'baseSeverity']),\n",
    "                'ExploitabilityScore': get_nested_value(entry, ['cve', 'metrics', 'cvssMetricV31', 0, 'exploitabilityScore']),\n",
    "                'ImpactScore': get_nested_value(entry, ['cve', 'metrics', 'cvssMetricV31', 0, 'impactScore']),\n",
    "                'CWE': get_nested_value(entry, ['cve', 'weaknesses', 0, 'description', 0, 'value']),\n",
    "                'Description': get_nested_value(entry, ['cve', 'descriptions', 0, 'value'], ''),\n",
    "                'Assigner': get_nested_value(entry, ['cve', 'sourceIdentifier']),\n",
    "                'Tag': get_nested_value(entry, ['cve', 'cveTags', 0, 'tags'], np.nan),\n",
    "                'Status': get_nested_value(entry, ['cve', 'vulnStatus'], '')\n",
    "            }\n",
    "            row_accumulator.append(new_row)\n",
    "\n",
    "nvd = pd.DataFrame(row_accumulator)\n",
    "nvd = nvd[~nvd.Status.str.contains('Rejected')]\n",
    "nvd['Published'] = pd.to_datetime(nvd['Published'])\n",
    "nvd = nvd.sort_values(by=['Published'])\n",
    "nvd = nvd.reset_index(drop=True)\n",
    "nvd['BaseScore'] = pd.to_numeric(nvd['BaseScore']);\n",
    "nvd['BaseScore'] = pd.to_numeric(nvd['BaseScore']);\n",
    "nvd['BaseScore'] = nvd['BaseScore'].replace(0, np.nan);\n"
   ]
  },
  {
   "cell_type": "markdown",
   "id": "76ba3fec-e991-4f78-9e2d-15b80300aed8",
   "metadata": {},
   "source": [
    "## CVSS Graph"
   ]
  },
  {
   "cell_type": "code",
   "execution_count": null,
   "id": "6eb47510-9e6a-42c4-bb57-34763a056c67",
   "metadata": {
    "execution": {
     "iopub.execute_input": "2025-03-31T08:15:58.589983Z",
     "iopub.status.busy": "2025-03-31T08:15:58.589624Z",
     "iopub.status.idle": "2025-03-31T08:15:58.936172Z",
     "shell.execute_reply": "2025-03-31T08:15:58.935665Z"
    },
    "tags": [
     "remove-input"
    ]
   },
   "outputs": [],
   "source": [
    "\n",
    "nvd['BaseScore'] = pd.to_numeric(nvd['BaseScore'])\n",
    "nvd['BaseScore'] = nvd['BaseScore'].replace(0, np.nan)\n",
    "\n",
    "# Plot the CVSS breakdown with 100 bins\n",
    "cg = nvd['BaseScore'].plot(kind=\"hist\", bins=100, title='CVSS Breakdown', colormap='cividis', figsize=(16, 8))\n",
    "plt.grid(True, linestyle='--', linewidth=0.5)\n",
    "cg.set_ylabel(\"CVEs\")\n",
    "cg.set_xlabel(\"CVSS Score\")\n",
    "\n",
    "# Find the most common, least common, and average CVSS scores\n",
    "most_common_score = nvd['BaseScore'].mode()[0]\n",
    "least_common_score = nvd['BaseScore'].value_counts().idxmin()\n",
    "most_common_count = nvd['BaseScore'].value_counts().max()\n",
    "least_common_count = nvd['BaseScore'].value_counts().min()\n",
    "average_score = nvd['BaseScore'].mean().round(2)\n",
    "\n",
    "# Add annotation for the most common, least common, and average CVSS scores\n",
    "annotation_text = (f'Most Common: {most_common_score} ({most_common_count} CVEs)\\n'\n",
    "                   f'Least Common: {least_common_score} ({least_common_count} CVEs)\\n'\n",
    "                   f'Average Score: {average_score}')\n",
    "plt.text(0.01, 0.98, annotation_text, transform=cg.transAxes, fontsize=10, color='black',\n",
    "         verticalalignment='top', bbox=dict(boxstyle=\"round,pad=0.3\", edgecolor='black', facecolor='white'))\n",
    "\n",
    "# Adjust layout and save the chart as a PNG file one directory up\n",
    "plt.tight_layout()\n",
    "plt.show()"
   ]
  },
  {
   "cell_type": "markdown",
   "id": "31e34b59-d5ae-4bd5-b497-9e448cc1c7e1",
   "metadata": {},
   "source": [
    "## CVSS Count"
   ]
  },
  {
   "cell_type": "code",
   "execution_count": null,
   "id": "c6d18498-a8bb-4a2c-86b3-88d7a0f1e35a",
   "metadata": {
    "execution": {
     "iopub.execute_input": "2025-03-31T08:15:58.938114Z",
     "iopub.status.busy": "2025-03-31T08:15:58.937792Z",
     "iopub.status.idle": "2025-03-31T08:15:58.953850Z",
     "shell.execute_reply": "2025-03-31T08:15:58.953295Z"
    },
    "tags": [
     "remove-input"
    ]
   },
   "outputs": [],
   "source": [
    "# Define the bins and labels\n",
    "bins = [0, 1, 2, 3, 4, 5, 6, 7, 8, 9, 10]\n",
    "labels = [str(i) for i in range(1, 11)]\n",
    "\n",
    "# Bin the 'BaseScore' values and calculate the value counts\n",
    "nvd['BaseScoreBinned'] = pd.cut(nvd['BaseScore'], bins=bins, labels=labels, right=True)\n",
    "base_score_counts = nvd['BaseScoreBinned'].value_counts().sort_index()\n",
    "\n",
    "# Reset the index and rename the columns\n",
    "base_score_counts = base_score_counts.reset_index()\n",
    "base_score_counts.columns = ['CVSS BaseScore (Whole Number)', 'Count']\n",
    "\n",
    "# Display the DataFrame\n",
    "base_score_counts"
   ]
  },
  {
   "cell_type": "markdown",
   "id": "5cc77647-3836-4b8f-9925-0619c323097d",
   "metadata": {},
   "source": [
    "## Vector Count"
   ]
  },
  {
   "cell_type": "code",
   "execution_count": null,
   "id": "2df22bea-1428-47c6-b9aa-d9f9370490e9",
   "metadata": {
    "execution": {
     "iopub.execute_input": "2025-03-31T08:15:58.955790Z",
     "iopub.status.busy": "2025-03-31T08:15:58.955367Z",
     "iopub.status.idle": "2025-03-31T08:15:58.992292Z",
     "shell.execute_reply": "2025-03-31T08:15:58.991752Z"
    },
    "tags": [
     "remove-input"
    ]
   },
   "outputs": [],
   "source": [
    "# Calculate the counts of Attack Vectors\n",
    "attack_vector_counts = nvd['AttackVector'].value_counts().reset_index()\n",
    "attack_vector_counts.columns = ['Attack Vector', 'Count']\n",
    "\n",
    "# Display the DataFrame\n",
    "attack_vector_counts"
   ]
  },
  {
   "cell_type": "code",
   "execution_count": null,
   "id": "49dd1629-708b-42a3-8716-59ff9fc381b3",
   "metadata": {
    "execution": {
     "iopub.execute_input": "2025-03-31T08:15:58.994160Z",
     "iopub.status.busy": "2025-03-31T08:15:58.993752Z",
     "iopub.status.idle": "2025-03-31T08:15:59.027835Z",
     "shell.execute_reply": "2025-03-31T08:15:59.027292Z"
    },
    "tags": [
     "remove-input"
    ]
   },
   "outputs": [],
   "source": [
    "# Calculate the counts of Attack Vectors as percentages\n",
    "attack_vector_counts = nvd['AttackVector'].value_counts(normalize=True).mul(100).round(2).reset_index()\n",
    "attack_vector_counts.columns = ['Attack Vector', 'Percentage']\n",
    "\n",
    "# Display the DataFrame\n",
    "attack_vector_counts"
   ]
  }
 ],
 "metadata": {
  "kernelspec": {
   "display_name": "Python 3",
   "language": "python",
   "name": "python3"
  },
  "language_info": {
   "codemirror_mode": {
    "name": "ipython",
    "version": 3
   },
   "file_extension": ".py",
   "mimetype": "text/x-python",
   "name": "python",
   "nbconvert_exporter": "python",
   "pygments_lexer": "ipython3",
   "version": "3.13.2"
  }
 },
 "nbformat": 4,
 "nbformat_minor": 5
}
