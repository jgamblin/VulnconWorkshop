{
 "cells": [
  {
   "cell_type": "markdown",
   "id": "serious-pressing",
   "metadata": {},
   "source": [
    "# CNA Data\n",
    "---"
   ]
  },
  {
   "cell_type": "code",
   "execution_count": 12,
   "id": "91b44dc2",
   "metadata": {
    "execution": {
     "iopub.execute_input": "2025-03-31T08:16:05.765867Z",
     "iopub.status.busy": "2025-03-31T08:16:05.765687Z",
     "iopub.status.idle": "2025-03-31T08:16:06.402501Z",
     "shell.execute_reply": "2025-03-31T08:16:06.401878Z"
    },
    "tags": [
     "remove-cell"
    ]
   },
   "outputs": [],
   "source": [
    "import json\n",
    "import pandas as pd\n",
    "import glob\n",
    "import re\n",
    "import numpy as np \n",
    "import matplotlib.pyplot as plt"
   ]
  },
  {
   "cell_type": "code",
   "execution_count": 13,
   "id": "98bafc2f-2e20-4032-a091-ec2dc0ecb7a5",
   "metadata": {
    "execution": {
     "iopub.execute_input": "2025-03-31T08:16:06.404564Z",
     "iopub.status.busy": "2025-03-31T08:16:06.404155Z",
     "iopub.status.idle": "2025-03-31T08:16:31.175669Z",
     "shell.execute_reply": "2025-03-31T08:16:31.175175Z"
    },
    "tags": [
     "remove-cell"
    ]
   },
   "outputs": [],
   "source": [
    "def get_nested_value(entry, keys, default='Missing_Data'):\n",
    "    try:\n",
    "        for key in keys:\n",
    "            entry = entry[key]\n",
    "        return entry\n",
    "    except (KeyError, IndexError):\n",
    "        return default\n",
    "\n",
    "row_accumulator = []\n",
    "for filename in glob.glob('../../Data/NVD/nvd.jsonl'):\n",
    "    with open(filename, 'r', encoding='utf-8') as f:\n",
    "        nvd_data = json.load(f)\n",
    "        for entry in nvd_data:\n",
    "            new_row = {\n",
    "                'CVE': get_nested_value(entry, ['cve', 'id']),\n",
    "                'Published': get_nested_value(entry, ['cve', 'published']),\n",
    "                'AttackVector': get_nested_value(entry, ['cve', 'metrics', 'cvssMetricV31', 0, 'cvssData', 'attackVector']),\n",
    "                'AttackComplexity': get_nested_value(entry, ['cve', 'metrics', 'cvssMetricV31', 0, 'cvssData', 'attackComplexity']),\n",
    "                'PrivilegesRequired': get_nested_value(entry, ['cve', 'metrics', 'cvssMetricV31', 0, 'cvssData', 'privilegesRequired']),\n",
    "                'UserInteraction': get_nested_value(entry, ['cve', 'metrics', 'cvssMetricV31', 0, 'cvssData', 'userInteraction']),\n",
    "                'Scope': get_nested_value(entry, ['cve', 'metrics', 'cvssMetricV31', 0, 'cvssData', 'scope']),\n",
    "                'ConfidentialityImpact': get_nested_value(entry, ['cve', 'metrics', 'cvssMetricV31', 0, 'cvssData', 'confidentialityImpact']),\n",
    "                'IntegrityImpact': get_nested_value(entry, ['cve', 'metrics', 'cvssMetricV31', 0, 'cvssData', 'integrityImpact']),\n",
    "                'AvailabilityImpact': get_nested_value(entry, ['cve', 'metrics', 'cvssMetricV31', 0, 'cvssData', 'availabilityImpact']),\n",
    "                'BaseScore': get_nested_value(entry, ['cve', 'metrics', 'cvssMetricV31', 0, 'cvssData', 'baseScore'], '0.0'),\n",
    "                'BaseSeverity': get_nested_value(entry, ['cve', 'metrics', 'cvssMetricV31', 0, 'cvssData', 'baseSeverity']),\n",
    "                'ExploitabilityScore': get_nested_value(entry, ['cve', 'metrics', 'cvssMetricV31', 0, 'exploitabilityScore']),\n",
    "                'ImpactScore': get_nested_value(entry, ['cve', 'metrics', 'cvssMetricV31', 0, 'impactScore']),\n",
    "                'CWE': get_nested_value(entry, ['cve', 'weaknesses', 0, 'description', 0, 'value']),\n",
    "                'Description': get_nested_value(entry, ['cve', 'descriptions', 0, 'value'], ''),\n",
    "                'Assigner': get_nested_value(entry, ['cve', 'sourceIdentifier']),\n",
    "                'Tag': get_nested_value(entry, ['cve', 'cveTags', 0, 'tags'], np.nan),\n",
    "                'Status': get_nested_value(entry, ['cve', 'vulnStatus'], '')\n",
    "            }\n",
    "            row_accumulator.append(new_row)\n",
    "\n",
    "nvd = pd.DataFrame(row_accumulator)\n",
    "nvd = nvd[~nvd.Status.str.contains('Rejected')]\n",
    "nvd['Published'] = pd.to_datetime(nvd['Published'])\n",
    "nvd = nvd.sort_values(by=['Published'])\n",
    "nvd = nvd.reset_index(drop=True)\n",
    "nvd['BaseScore'] = pd.to_numeric(nvd['BaseScore']);\n",
    "nvd['BaseScore'] = pd.to_numeric(nvd['BaseScore']);\n",
    "nvd['BaseScore'] = nvd['BaseScore'].replace(0, np.nan);\n"
   ]
  },
  {
   "attachments": {},
   "cell_type": "markdown",
   "id": "f0210783",
   "metadata": {
    "tags": [
     "hide-input"
    ]
   },
   "source": [
    "## CNA Assigner Graphs"
   ]
  },
  {
   "cell_type": "code",
   "execution_count": 14,
   "id": "96ff98c6",
   "metadata": {
    "execution": {
     "iopub.execute_input": "2025-03-31T08:16:31.177975Z",
     "iopub.status.busy": "2025-03-31T08:16:31.177626Z",
     "iopub.status.idle": "2025-03-31T08:16:34.237099Z",
     "shell.execute_reply": "2025-03-31T08:16:34.236544Z"
    },
    "tags": [
     "remove-input"
    ]
   },
   "outputs": [
    {
     "name": "stdout",
     "output_type": "stream",
     "text": []
    }
   ],
   "source": [
    "# Replace specific assigner ID with email\n",
    "nvd['Assigner'] = nvd['Assigner'].replace('416baaa9-dc9f-4396-8d5f-8d5f-8c081fb06d67', 'cve@kernel.org')\n",
    "\n",
    "# Extract domain names and check for uniqueness\n",
    "nvd['Domain'] = nvd['Assigner'].apply(lambda x: x.split('@')[-1])\n",
    "domain_counts = nvd['Domain'].value_counts()\n",
    "\n",
    "# Modify Assigner column based on domain uniqueness\n",
    "unique_domains = nvd.groupby('Domain')['Assigner'].nunique()\n",
    "nvd['Assigner'] = nvd.apply(lambda x: x['Domain'] if unique_domains[x['Domain']] == 1 else f\"{x['Domain']} ({x['Assigner'].split('@')[0]})\", axis=1)\n",
    "\n",
    "# Calculate frequency of assigners\n",
    "nvd_frequency = nvd['Assigner'].value_counts().reset_index()\n",
    "nvd_frequency.columns = ['Assigner', 'counts']\n",
    "nvd_frequency = nvd_frequency[nvd_frequency.counts > 100].head(50)\n",
    "\n",
    "# Calculate the number of CVEs published by mitre.org\n",
    "mitre_cves = nvd_frequency[nvd_frequency['Assigner'].str.contains('mitre.org')]['counts'].sum()\n",
    "\n",
    "# Remove mitre.org from the frequency list\n",
    "nvd_frequency_no_mitre = nvd_frequency[~nvd_frequency.Assigner.str.contains('mitre.org')]\n",
    "nvd_frequency_no_mitre = nvd_frequency_no_mitre[nvd_frequency_no_mitre.counts > 100].head(20)\n",
    "\n",
    "# Plot the top 20 CNAs\n",
    "plt.figure(figsize=(16, 8))\n",
    "plt.barh(\"Assigner\", \"counts\", data=nvd_frequency_no_mitre, color=\"#001d82\")\n",
    "plt.xlabel(\"CVEs\")\n",
    "plt.ylabel(\"Assigner\")\n",
    "plt.title(\"Top 20 CNAs\")\n",
    "plt.grid(True, linestyle='--', linewidth=0.5)\n",
    "\n",
    "# Add a text box indicating mitre.org has been removed and the number of CVEs they published\n",
    "textstr = f'{mitre_cves:,} CVEs published by MITRE not shown'\n",
    "plt.text(0.99, 0.98, textstr, transform=plt.gca().transAxes, fontsize=10,\n",
    "         verticalalignment='top', horizontalalignment='right',\n",
    "         bbox=dict(boxstyle=\"round,pad=0.3\", edgecolor='black', facecolor='white'))\n",
    "\n",
    "# Adjust layout and show the chart\n",
    "plt.tight_layout()\n",
    "plt.show()"
   ]
  },
  {
   "cell_type": "code",
   "execution_count": 15,
   "id": "bd16e9ab",
   "metadata": {
    "execution": {
     "iopub.execute_input": "2025-03-31T08:16:34.239041Z",
     "iopub.status.busy": "2025-03-31T08:16:34.238733Z",
     "iopub.status.idle": "2025-03-31T08:16:37.044132Z",
     "shell.execute_reply": "2025-03-31T08:16:37.043590Z"
    },
    "tags": [
     "remove-input"
    ]
   },
   "outputs": [
    {
     "name": "stdout",
     "output_type": "stream",
     "text": []
    }
   ],
   "source": [
    "import matplotlib.pyplot as plt\n",
    "\n",
    "# Replace specific assigner ID with email\n",
    "nvd['Assigner'] = nvd['Assigner'].replace('416baaa9-dc9f-4396-8d5f-8d5f-8c081fb06d67', 'cve@kernel.org')\n",
    "\n",
    "# Extract domain names and check for uniqueness\n",
    "nvd['Domain'] = nvd['Assigner'].apply(lambda x: x.split('@')[-1])\n",
    "domain_counts = nvd['Domain'].value_counts()\n",
    "\n",
    "# Modify Assigner column based on domain uniqueness\n",
    "unique_domains = nvd.groupby('Domain')['Assigner'].nunique()\n",
    "nvd['Assigner'] = nvd.apply(lambda x: x['Domain'] if unique_domains[x['Domain']] == 1 else f\"{x['Domain']} ({x['Assigner'].split('@')[0]})\", axis=1)\n",
    "\n",
    "# Calculate frequency of assigners\n",
    "nvd_frequency = nvd['Assigner'].value_counts().reset_index()\n",
    "nvd_frequency.columns = ['Assigner', 'counts']\n",
    "nvd_frequency = nvd_frequency[nvd_frequency.counts > 100].head(50)\n",
    "\n",
    "# Plot the top 20 CNAs including MITRE\n",
    "plt.figure(figsize=(16, 8))\n",
    "plt.barh(\"Assigner\", \"counts\", data=nvd_frequency.head(20), color=\"#001d82\")\n",
    "plt.xlabel(\"CVEs\")\n",
    "plt.ylabel(\"Assigner\")\n",
    "plt.title(\"Top 20 CNAs With MITRE\")\n",
    "plt.grid(True, linestyle='--', linewidth=0.5)\n",
    "\n",
    "# Adjust layout and show the chart\n",
    "plt.tight_layout()\n",
    "plt.show()"
   ]
  },
  {
   "attachments": {},
   "cell_type": "markdown",
   "id": "5dbbc915",
   "metadata": {
    "tags": [
     "hide-input"
    ]
   },
   "source": [
    "## Top CVE Assigners"
   ]
  },
  {
   "cell_type": "code",
   "execution_count": 16,
   "id": "04a26e54",
   "metadata": {
    "execution": {
     "iopub.execute_input": "2025-03-31T08:16:37.046130Z",
     "iopub.status.busy": "2025-03-31T08:16:37.045806Z",
     "iopub.status.idle": "2025-03-31T08:16:39.697899Z",
     "shell.execute_reply": "2025-03-31T08:16:39.697325Z"
    },
    "tags": [
     "remove-input"
    ]
   },
   "outputs": [
    {
     "name": "stdout",
     "output_type": "stream",
     "text": []
    }
   ],
   "source": [
    "# Replace specific assigner ID with email\n",
    "nvd['Assigner'] = nvd['Assigner'].replace('416baaa9-dc9f-4396-8d5f-8d5f-8c081fb06d67', 'cve@kernel.org')\n",
    "\n",
    "# Extract domain names and check for uniqueness\n",
    "nvd['Domain'] = nvd['Assigner'].apply(lambda x: x.split('@')[-1])\n",
    "domain_counts = nvd['Domain'].value_counts()\n",
    "\n",
    "# Modify Assigner column based on domain uniqueness\n",
    "unique_domains = nvd.groupby('Domain')['Assigner'].nunique()\n",
    "nvd['Assigner'] = nvd.apply(lambda x: x['Domain'] if unique_domains[x['Domain']] == 1 else f\"{x['Domain']} ({x['Assigner'].split('@')[0]})\", axis=1)\n",
    "\n",
    "# Calculate frequency of assigners\n",
    "nvd_frequency = nvd['Assigner'].value_counts().reset_index()\n",
    "nvd_frequency.columns = ['Assigner', 'counts']\n",
    "\n",
    "# Save nvd_frequency to a CSV file\n",
    "nvd_frequency.to_csv('CNACounts.csv', index=False)\n",
    "\n",
    "nvd_frequency"
   ]
  }
 ],
 "metadata": {
  "kernelspec": {
   "display_name": "Python 3",
   "language": "python",
   "name": "python3"
  },
  "language_info": {
   "codemirror_mode": {
    "name": "ipython",
    "version": 3
   },
   "file_extension": ".py",
   "mimetype": "text/x-python",
   "name": "python",
   "nbconvert_exporter": "python",
   "pygments_lexer": "ipython3",
   "version": "3.13.2"
  }
 },
 "nbformat": 4,
 "nbformat_minor": 5
}
