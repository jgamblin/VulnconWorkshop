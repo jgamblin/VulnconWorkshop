{
 "cells": [
  {
   "cell_type": "markdown",
   "id": "worth-sapphire",
   "metadata": {},
   "source": [
    "# NVD CVE Growth"
   ]
  },
  {
   "cell_type": "code",
   "execution_count": null,
   "id": "postal-angle",
   "metadata": {
    "execution": {
     "iopub.execute_input": "2025-03-31T08:15:02.605450Z",
     "iopub.status.busy": "2025-03-31T08:15:02.605262Z",
     "iopub.status.idle": "2025-03-31T08:15:03.246491Z",
     "shell.execute_reply": "2025-03-31T08:15:03.245993Z"
    },
    "tags": [
     "remove-cell"
    ]
   },
   "outputs": [],
   "source": [
    "import json\n",
    "import pandas as pd\n",
    "import glob\n",
    "import re\n",
    "import numpy as np \n",
    "import matplotlib.pyplot as plt\n",
    "from datetime import date"
   ]
  },
  {
   "cell_type": "code",
   "execution_count": null,
   "id": "sophisticated-interstate",
   "metadata": {
    "execution": {
     "iopub.execute_input": "2025-03-31T08:15:03.248679Z",
     "iopub.status.busy": "2025-03-31T08:15:03.248254Z",
     "iopub.status.idle": "2025-03-31T08:15:27.731581Z",
     "shell.execute_reply": "2025-03-31T08:15:27.731002Z"
    },
    "tags": [
     "remove-cell"
    ]
   },
   "outputs": [],
   "source": [
    "def get_nested_value(entry, keys, default='Missing_Data'):\n",
    "    try:\n",
    "        for key in keys:\n",
    "            entry = entry[key]\n",
    "        return entry\n",
    "    except (KeyError, IndexError):\n",
    "        return default\n",
    "\n",
    "row_accumulator = []\n",
    "for filename in glob.glob('../../Data/NVD/nvd.jsonl'):\n",
    "    with open(filename, 'r', encoding='utf-8') as f:\n",
    "        nvd_data = json.load(f)\n",
    "        for entry in nvd_data:\n",
    "            new_row = {\n",
    "                'CVE': get_nested_value(entry, ['cve', 'id']),\n",
    "                'Published': get_nested_value(entry, ['cve', 'published']),\n",
    "                'AttackVector': get_nested_value(entry, ['cve', 'metrics', 'cvssMetricV31', 0, 'cvssData', 'attackVector']),\n",
    "                'AttackComplexity': get_nested_value(entry, ['cve', 'metrics', 'cvssMetricV31', 0, 'cvssData', 'attackComplexity']),\n",
    "                'PrivilegesRequired': get_nested_value(entry, ['cve', 'metrics', 'cvssMetricV31', 0, 'cvssData', 'privilegesRequired']),\n",
    "                'UserInteraction': get_nested_value(entry, ['cve', 'metrics', 'cvssMetricV31', 0, 'cvssData', 'userInteraction']),\n",
    "                'Scope': get_nested_value(entry, ['cve', 'metrics', 'cvssMetricV31', 0, 'cvssData', 'scope']),\n",
    "                'ConfidentialityImpact': get_nested_value(entry, ['cve', 'metrics', 'cvssMetricV31', 0, 'cvssData', 'confidentialityImpact']),\n",
    "                'IntegrityImpact': get_nested_value(entry, ['cve', 'metrics', 'cvssMetricV31', 0, 'cvssData', 'integrityImpact']),\n",
    "                'AvailabilityImpact': get_nested_value(entry, ['cve', 'metrics', 'cvssMetricV31', 0, 'cvssData', 'availabilityImpact']),\n",
    "                'BaseScore': get_nested_value(entry, ['cve', 'metrics', 'cvssMetricV31', 0, 'cvssData', 'baseScore'], '0.0'),\n",
    "                'BaseSeverity': get_nested_value(entry, ['cve', 'metrics', 'cvssMetricV31', 0, 'cvssData', 'baseSeverity']),\n",
    "                'ExploitabilityScore': get_nested_value(entry, ['cve', 'metrics', 'cvssMetricV31', 0, 'exploitabilityScore']),\n",
    "                'ImpactScore': get_nested_value(entry, ['cve', 'metrics', 'cvssMetricV31', 0, 'impactScore']),\n",
    "                'CWE': get_nested_value(entry, ['cve', 'weaknesses', 0, 'description', 0, 'value']),\n",
    "                'Description': get_nested_value(entry, ['cve', 'descriptions', 0, 'value'], ''),\n",
    "                'Assigner': get_nested_value(entry, ['cve', 'sourceIdentifier']),\n",
    "                'Tag': get_nested_value(entry, ['cve', 'cveTags', 0, 'tags'], np.nan),\n",
    "                'Status': get_nested_value(entry, ['cve', 'vulnStatus'], '')\n",
    "            }\n",
    "            row_accumulator.append(new_row)\n",
    "\n",
    "nvd = pd.DataFrame(row_accumulator)\n",
    "\n",
    "nvd = nvd[~nvd.Status.str.contains('Rejected')]\n",
    "nvd['Published'] = pd.to_datetime(nvd['Published'])\n",
    "Year_2025 = ((nvd['Published'] > '2025-01-01') & (nvd['Published']  < '2026-01-01'))\n",
    "Year_2024 = ((nvd['Published'] > '2024-01-01') & (nvd['Published']  < '2025-01-01'))\n",
    "Year_2023 = ((nvd['Published'] > '2023-01-01') & (nvd['Published']  < '2024-01-01'))\n",
    "Year_2022 = ((nvd['Published'] > '2022-01-01') & (nvd['Published']  < '2023-01-01'))\n",
    "Year_2021 = ((nvd['Published'] > '2021-01-01') & (nvd['Published']  < '2022-01-01'))\n",
    "Year_2020 = ((nvd['Published'] > '2020-01-01') & (nvd['Published']  < '2021-01-01'))\n",
    "\n",
    "nvd['BaseScore'] = pd.to_numeric(nvd['BaseScore']);\n",
    "nvd['BaseScore'] = pd.to_numeric(nvd['BaseScore']);\n",
    "nvd['BaseScore'] = nvd['BaseScore'].replace(0, np.nan);\n",
    "\n",
    "nvd_2025 = nvd.loc[Year_2025]\n",
    "nvd_2025 = nvd_2025.sort_values(by=['Published'])\n",
    "nvd_2025 = nvd_2025.reset_index(drop=True)\n",
    "nvdcount_2025 = nvd_2025['Published'].count()\n",
    "\n",
    "nvd_2024 = nvd.loc[Year_2024]\n",
    "nvd_2024 = nvd_2024.sort_values(by=['Published'])\n",
    "nvd_2024 = nvd_2024.reset_index(drop=True)\n",
    "nvdcount_2024 = nvd_2024['Published'].count()\n",
    "\n",
    "nvd_2023 = nvd.loc[Year_2023]\n",
    "nvd_2023 = nvd_2023.sort_values(by=['Published'])\n",
    "nvd_2023 = nvd_2023.reset_index(drop=True)\n",
    "nvdcount_2023 = nvd_2023['Published'].count()\n",
    "\n",
    "nvd_2022 = nvd.loc[Year_2022]\n",
    "nvd_2022 = nvd_2022.sort_values(by=['Published'])\n",
    "nvd_2022 = nvd_2022.reset_index(drop=True)\n",
    "nvdcount_2022 = nvd_2022['Published'].count()\n",
    "\n",
    "nvd_2021 = nvd.loc[Year_2021]\n",
    "nvd_2021 = nvd_2021.sort_values(by=['Published'])\n",
    "nvd_2021 = nvd_2021.reset_index(drop=True)\n",
    "nvdcount_2021 = nvd_2021['Published'].count()\n",
    "\n",
    "nvd_2020 = nvd.loc[Year_2020]\n",
    "nvd_2020 = nvd_2020.sort_values(by=['Published'])\n",
    "nvd_2020 = nvd_2020.reset_index(drop=True)\n",
    "nvdcount_2020 = nvd_2020['Published'].count()\n"
   ]
  },
  {
   "cell_type": "code",
   "execution_count": null,
   "id": "6ceed616",
   "metadata": {
    "execution": {
     "iopub.execute_input": "2025-03-31T08:15:27.733761Z",
     "iopub.status.busy": "2025-03-31T08:15:27.733399Z",
     "iopub.status.idle": "2025-03-31T08:15:27.802327Z",
     "shell.execute_reply": "2025-03-31T08:15:27.801723Z"
    },
    "tags": [
     "remove-cell"
    ]
   },
   "outputs": [],
   "source": [
    "nvd['Published'] = pd.to_datetime(nvd['Published'])\n",
    "Month_Graph = nvd['Published'].groupby(nvd.Published.dt.to_period(\"M\")).agg('count')\n",
    "Year_Graph = nvd['Published'].groupby(nvd.Published.dt.to_period(\"Y\")).agg('count')\n",
    "Week_Graph = nvd['Published'].groupby(nvd.Published.dt.to_period(\"W\")).agg('count')\n",
    "Day_Graph = nvd['Published'].groupby(nvd.Published.dt.to_period(\"D\")).agg('count')"
   ]
  },
  {
   "cell_type": "code",
   "execution_count": null,
   "id": "d46acbd3-cd6e-4079-8a6a-3dacd4b08cfb",
   "metadata": {
    "execution": {
     "iopub.execute_input": "2025-03-31T08:15:27.804543Z",
     "iopub.status.busy": "2025-03-31T08:15:27.804326Z",
     "iopub.status.idle": "2025-03-31T08:15:27.816218Z",
     "shell.execute_reply": "2025-03-31T08:15:27.815773Z"
    },
    "tags": [
     "remove-input"
    ]
   },
   "outputs": [],
   "source": [
    "yg_df = pd.DataFrame(Year_Graph)\n",
    "yg_df.columns = ['Count']\n",
    "yg_df = yg_df.reset_index()\n",
    "yg_df['Percentage Of CVEs'] = ( yg_df['Count'] / \n",
    "                       yg_df['Count'].sum()) * 100\n",
    "yg_df['Growth YOY'] = yg_df['Count'].pct_change()*100\n",
    "yg_df = yg_df.round(2)\n",
    "yg_df = yg_df.rename(columns={\"Count\": \"CVEs\"})\n",
    "yg_df.tail(10)"
   ]
  },
  {
   "cell_type": "code",
   "execution_count": null,
   "id": "6d1b132c-4d52-40ad-9683-fc5e11caa8c1",
   "metadata": {
    "execution": {
     "iopub.execute_input": "2025-03-31T08:15:27.817825Z",
     "iopub.status.busy": "2025-03-31T08:15:27.817651Z",
     "iopub.status.idle": "2025-03-31T08:15:28.146215Z",
     "shell.execute_reply": "2025-03-31T08:15:28.145633Z"
    },
    "tags": [
     "remove-input"
    ]
   },
   "outputs": [],
   "source": [
    "# Plot the graph\n",
    "fig, ax = plt.subplots(figsize=(16, 8))\n",
    "cg = yg_df.plot.bar(x='Published', y='Percentage Of CVEs', colormap='cividis', ax=ax, title='Percentage of CVEs Published', legend=False)\n",
    "cg.set_ylabel(\"Percentage\")\n",
    "cg.set_xlabel(\"Year\")\n",
    "cg.grid(True, linestyle='--', linewidth=0.5)\n",
    "\n",
    "# Add watermark\n",
    "plt.text(0.99, 0.01, 'cve.icu', transform=cg.transAxes, fontsize=12, color='gray', alpha=0.5, ha='right', va='bottom')\n",
    "\n",
    "# Adjust layout and show the plot\n",
    "plt.tight_layout()\n",
    "plt.show()\n",
    "plt.close(fig) "
   ]
  },
  {
   "cell_type": "code",
   "execution_count": null,
   "id": "a8b12939",
   "metadata": {
    "execution": {
     "iopub.execute_input": "2025-03-31T08:15:28.148444Z",
     "iopub.status.busy": "2025-03-31T08:15:28.148027Z",
     "iopub.status.idle": "2025-03-31T08:15:28.379121Z",
     "shell.execute_reply": "2025-03-31T08:15:28.378529Z"
    },
    "tags": [
     "remove-input"
    ]
   },
   "outputs": [],
   "source": [
    "# Group by month and count the number of publications\n",
    "Month_2022 = nvd_2022['Published'].groupby(nvd_2022.Published.dt.to_period(\"M\")).agg('count')\n",
    "Month_2023 = nvd_2023['Published'].groupby(nvd_2023.Published.dt.to_period(\"M\")).agg('count')\n",
    "Month_2024 = nvd_2024['Published'].groupby(nvd_2024.Published.dt.to_period(\"M\")).agg('count')\n",
    "Month_2025 = nvd_2025['Published'].groupby(nvd_2025.Published.dt.to_period(\"M\")).agg('count')\n",
    "\n",
    "# Reset index and rename columns\n",
    "\n",
    "Month_2022 = Month_2022.reset_index(name=\"2022\")\n",
    "Month_2022 = Month_2022.rename(columns={\"Published\": \"Month\"}, errors=\"raise\")\n",
    "Month_2022['Month'] = Month_2022['Month'].dt.strftime('%B')\n",
    "\n",
    "Month_2023 = Month_2023.reset_index(name=\"2023\")\n",
    "Month_2023 = Month_2023.rename(columns={\"Published\": \"Month\"}, errors=\"raise\")\n",
    "Month_2023['Month'] = Month_2023['Month'].dt.strftime('%B')\n",
    "\n",
    "Month_2024 = Month_2024.reset_index(name=\"2024\")\n",
    "Month_2024 = Month_2024.rename(columns={\"Published\": \"Month\"}, errors=\"raise\")\n",
    "Month_2024['Month'] = Month_2024['Month'].dt.strftime('%B')\n",
    "\n",
    "Month_2025 = Month_2025.reset_index(name=\"2025\")\n",
    "Month_2025 = Month_2025.rename(columns={\"Published\": \"Month\"}, errors=\"raise\")\n",
    "Month_2025['Month'] = Month_2025['Month'].dt.strftime('%B')\n",
    "\n",
    "# Merge the dataframes\n",
    "Months = pd.merge(Month_2022, Month_2023, how='left')\n",
    "Months = pd.merge(Months, Month_2024, how='left')\n",
    "Months = pd.merge(Months, Month_2025, how='left')\n",
    "\n",
    "# Plot the cumulative sum\n",
    "fig, ax = plt.subplots(figsize=(16, 8))\n",
    "Months.cumsum().plot(ax=ax, title='Cumulative Yearly CVE Publication (NVD Data)', stacked=False)\n",
    "ax.set_ylabel(\"New CVEs\")\n",
    "ax.set_xlabel(\"Month\")\n",
    "ax.grid(True, linestyle='--', linewidth=0.5)\n",
    "\n",
    "# Customize the x-axis\n",
    "x1 = [0, 1, 2, 3, 4, 5, 6, 7, 8, 9, 10, 11]\n",
    "squad = ['January', 'February', 'March', 'April', 'May', 'June', 'July', 'August', 'September', 'October', 'November', 'December']\n",
    "ax.set_xticks(x1)\n",
    "ax.set_xticklabels(squad, minor=False, rotation=45)\n",
    "\n",
    "\n",
    "# Adjust layout and show the plot\n",
    "plt.tight_layout()\n",
    "plt.show()\n",
    "plt.close(fig)"
   ]
  }
 ],
 "metadata": {
  "kernelspec": {
   "display_name": "Python 3",
   "language": "python",
   "name": "python3"
  },
  "language_info": {
   "codemirror_mode": {
    "name": "ipython",
    "version": 3
   },
   "file_extension": ".py",
   "mimetype": "text/x-python",
   "name": "python",
   "nbconvert_exporter": "python",
   "pygments_lexer": "ipython3",
   "version": "3.13.2"
  }
 },
 "nbformat": 4,
 "nbformat_minor": 5
}
